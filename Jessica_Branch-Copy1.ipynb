{
 "cells": [
  {
   "cell_type": "markdown",
   "metadata": {},
   "source": [
    "Hypothesis: Determine how the California real estate market has been affected by the national interest rate\n",
    "\n",
    "- L/C Price - needs to get converted to integer\n",
    "- Contract Status Change Date - needs to be converted to date / time\n",
    "- Convert LSqft/Ac\t- convert to integer\n",
    "- Seperate Bed/Bath by commas\n",
    "- \n",
    "\n",
    "    "
   ]
  },
  {
   "cell_type": "markdown",
   "metadata": {},
   "source": [
    "import pandas as pd\n",
    "import numpy as np\n",
    "pd.read_csv(\"Resources/\")\n",
    "real_estate_pd = pd.read_csv(\"Resources/California_Real_Estate_Raw_Data_Set.csv\")\n",
    "real_estate_pd.head()\n",
    "real_estate_pd.columns\n",
    "real_estate_pd['County '].astype(str).astype(int)\n",
    "CA_real_estate_df = real_estate_pd\n",
    "CA_real_estate_df\n",
    "CA_real_estate_df = int(CA_real_estate_df)\n",
    "\n",
    "## To do:\n",
    "Interest Rates per month\n",
    "Hypothesis testing\n",
    "Analyze the data showing the "
   ]
  },
  {
   "cell_type": "code",
   "execution_count": 1,
   "metadata": {},
   "outputs": [],
   "source": [
    "#My Notes\n",
    "# import pandas as pd\n",
    "# import numpy as np\n",
    "# import datetime as dt\n",
    "# real_estate_pd = pd.read_csv(\"Resources/California_Real_Estate_Raw_Data_Set.csv\")\n",
    "# real_estate_pd.head()\n",
    "# real_estate_pd.columns\n",
    "# real_estate_pd['County '].astype(str).astype(int)\n",
    "# ca_real_estate = real_estate_pd[[\"Listing ID\",\"City\",\"L/C Price\",\"County\"]]\n",
    "# ca_real_estate.head()\n",
    "# CA_real_estate_df = real_estate_pd\n",
    "# CA_real_estate_df\n",
    "# CA_real_estate_df = int(CA_real_estate_df)\n",
    "#ca_real_estate_sorted_df_JM = ca_real_estate_sorted_df[(ca_real_estate_sorted_df.Date >= \"2018-08-15\") & (ca_real_estate_sorted_df.Date <= \"2019-05-31\")]\n",
    "#import datetime as dt\n",
    "#ca_real_estate_sorted_df.Date[(ca_real_estate_sorted_df.Date.dt.month == 9) & (ca_real_estate_sorted_df.Date.dt.year == 2019)].value_counts().sum()\n",
    "#ca_real_estate_sorted_df['Date'].value_counts().hist()\n",
    "#ca_real_estate_sorted_df['Date'].groupby([ca_real_estate_sorted_df[\"Date\"].dt.year,ca_real_estate_sorted_df[\"Date\"].dt.month]).count().plot(kind=\"bar\")\n",
    "#ca_real_estate_sorted_df = ca_real_estate_df.sort_values(by='Date')\n",
    "#ca_real_estate_sorted_df.Date\n",
    "#ca_real_estate_sorted_df.info()"
   ]
  },
  {
   "cell_type": "code",
   "execution_count": 2,
   "metadata": {},
   "outputs": [],
   "source": [
    "import pandas as pd\n",
    "import numpy as np\n",
    "import datetime as dt\n",
    "from scipy.stats import ttest_ind\n",
    "import matplotlib.pyplot as plt\n"
   ]
  },
  {
   "cell_type": "code",
   "execution_count": 3,
   "metadata": {},
   "outputs": [],
   "source": [
    "pd.set_option('display.max_columns', 30)"
   ]
  },
  {
   "cell_type": "code",
   "execution_count": 4,
   "metadata": {},
   "outputs": [],
   "source": [
    "ca_real_estate = pd.read_csv(\"Resources/California_Real_Estate_Raw_Data_Set.csv\")\n",
    "current_prices = pd.read_csv(\"Resources/Current_prices.csv\")"
   ]
  },
  {
   "cell_type": "code",
   "execution_count": 5,
   "metadata": {},
   "outputs": [],
   "source": [
    "ca_real_estate_df = ca_real_estate\n",
    "current_market_df = current_prices"
   ]
  },
  {
   "cell_type": "code",
   "execution_count": 6,
   "metadata": {},
   "outputs": [],
   "source": [
    "ca_real_estate_df.rename(columns = {\"Contract Status Change Date\": \"Date\"}, inplace = True)\n",
    "current_market_df.rename(columns = {\"Contract Status Change Date\": \"Date\"}, inplace = True)"
   ]
  },
  {
   "cell_type": "code",
   "execution_count": 7,
   "metadata": {},
   "outputs": [],
   "source": [
    "ca_real_estate_df.Date = pd.to_datetime(ca_real_estate_df.Date, format = \"%m/%d/%y\")\n",
    "current_market_df.Date = pd.to_datetime(current_market_df.Date, format = \"%m/%d/%y\")"
   ]
  },
  {
   "cell_type": "code",
   "execution_count": 8,
   "metadata": {},
   "outputs": [],
   "source": [
    "ca_real_estate_df[\"month\"] = ca_real_estate_df.Date.dt.month\n",
    "current_market_df['month'] = current_market_df.Date.dt.month"
   ]
  },
  {
   "cell_type": "code",
   "execution_count": 9,
   "metadata": {},
   "outputs": [],
   "source": [
    "ca_real_estate_df[\"Year\"] = ca_real_estate_df.Date.dt.year\n",
    "current_market_df['Year'] = current_market_df.Date.dt.year"
   ]
  },
  {
   "cell_type": "code",
   "execution_count": 10,
   "metadata": {},
   "outputs": [],
   "source": [
    "ca_real_estate_df[['Price Per Square Foot']] = ca_real_estate_df[['Price Per Square Foot']].replace('[\\$,]','',regex=True).astype(float)\n",
    "current_market_df[['Price Per Square Foot']] = current_market_df[['Price Per Square Foot']].replace('[\\$,]','',regex=True).astype(float)"
   ]
  },
  {
   "cell_type": "code",
   "execution_count": 11,
   "metadata": {},
   "outputs": [],
   "source": [
    "ca_real_estate_df[['L/C Price']] = ca_real_estate_df[['L/C Price']].replace('[\\$,]','',regex=True).astype(float)\n",
    "current_market_df[['L?C Price']] = current_market_df[['L/C Price']].replace('[\\$,]','',regex=True).astype(float)"
   ]
  },
  {
   "cell_type": "code",
   "execution_count": 12,
   "metadata": {},
   "outputs": [],
   "source": [
    "ca_real_estate_df[[\"Sqft\"]] = ca_real_estate_df.Sqft.str.split('/', expand=True).drop([1], axis = 1)\n",
    "current_market_df[['Sqft']] = current_market_df.Sqft.str.split('/', expand=True).drop([1], axis = 1)"
   ]
  },
  {
   "cell_type": "code",
   "execution_count": 13,
   "metadata": {},
   "outputs": [],
   "source": [
    "ca_real_estate_df[[\"YrBuilt\"]] = ca_real_estate_df.YrBuilt.str.split('/', expand=True).drop([1], axis = 1)\n",
    "current_market_df[['YrBuilt']] = current_market_df.YrBuilt.str.split('/', expand=True).drop([1], axis = 1)"
   ]
  },
  {
   "cell_type": "code",
   "execution_count": 14,
   "metadata": {},
   "outputs": [],
   "source": [
    "ca_real_estate_df[[\"Bed & Bath\", \"A\", \"B\", \"C\"]] = ca_real_estate_df['Br/Ba'].str.split(\",\", expand = True)\n",
    "ca_real_estate_df[[\"Bed\", \"Bath\"]] = ca_real_estate_df[\"Bed & Bath\"].str.split(\"/\", expand = True)\n",
    "\n",
    "current_market_df[[\"Bed & Bath\", \"A\", \"B\", \"C\"]] = current_market_df['Br/Ba'].str.split(\",\", expand = True)\n",
    "current_market_df[[\"Bed\", \"Bath\"]] = current_market_df[\"Bed & Bath\"].str.split(\"/\", expand = True)\n",
    "#fix bathroom into a float"
   ]
  },
  {
   "cell_type": "code",
   "execution_count": 15,
   "metadata": {},
   "outputs": [],
   "source": [
    "ca_real_estate_df = ca_real_estate_df.drop(columns = ['Bed & Bath'])\n",
    "current_market_df = current_market_df.drop(columns = ['Bed & Bath'])\n"
   ]
  },
  {
   "cell_type": "code",
   "execution_count": 16,
   "metadata": {},
   "outputs": [],
   "source": [
    "ca_real_estate_df.rename(columns = {\"Sqft\": \"Sqft/A\"}, inplace = True)\n",
    "ca_real_estate_df[[\"LSqft\", \"Ac\"]] = ca_real_estate_df['LSqft/Ac'].str.split('/', expand = True).replace('[\\$,]','',regex=True).astype(float)\n",
    "\n",
    "current_market_df.rename(columns = {\"Sqft\": \"Sqft/A\"}, inplace = True)\n",
    "current_market_df[[\"LSqft\", \"Ac\"]] = current_market_df['LSqft/Ac'].str.split('/', expand = True).replace('[\\$,]','',regex=True).astype(float)"
   ]
  },
  {
   "cell_type": "code",
   "execution_count": 17,
   "metadata": {},
   "outputs": [],
   "source": [
    "sales_data_month_df = ca_real_estate_df.loc[:,[\"Listing ID\", \"L/C Price\", \"month\", \"County \" ]]\n",
    "sales_data_year_df = ca_real_estate_df.loc[:,[\"Listing ID\", \"L/C Price\", \"Year\"]]"
   ]
  },
  {
   "cell_type": "code",
   "execution_count": 18,
   "metadata": {},
   "outputs": [
    {
     "data": {
      "text/plain": [
       "array([ 9.,  8.,  7.,  6.,  5.,  2., 10., 11.,  3., nan,  4.,  1.])"
      ]
     },
     "execution_count": 18,
     "metadata": {},
     "output_type": "execute_result"
    }
   ],
   "source": [
    "sales_data_month_df.month.unique()"
   ]
  },
  {
   "cell_type": "code",
   "execution_count": 19,
   "metadata": {},
   "outputs": [],
   "source": [
    "Jan_df = sales_data_month_df[sales_data_month_df[\"month\"] == 1.]\n",
    "Feb_df = sales_data_month_df[sales_data_month_df[\"month\"] == 2.]\n",
    "March_df = sales_data_month_df[sales_data_month_df[\"month\"] == 3.]\n",
    "April_df = sales_data_month_df[sales_data_month_df[\"month\"] == 4.]\n",
    "May_df = sales_data_month_df[sales_data_month_df[\"month\"] == 5.]\n",
    "June_df = sales_data_month_df[sales_data_month_df[\"month\"] == 6.]\n",
    "July_df = sales_data_month_df[sales_data_month_df[\"month\"] == 7.]\n",
    "August_df = sales_data_month_df[sales_data_month_df[\"month\"] == 8.]\n",
    "Sept_df = sales_data_month_df[sales_data_month_df[\"month\"] == 9.]\n",
    "Oct_df = sales_data_month_df[sales_data_month_df[\"month\"] == 10.]"
   ]
  },
  {
   "cell_type": "code",
   "execution_count": 20,
   "metadata": {},
   "outputs": [],
   "source": [
    "orange_county = ca_real_estate_df[ca_real_estate_df['County '] == \"Orange\"]\n",
    "Riverside_county = ca_real_estate_df[ca_real_estate_df['County '] == \"Riverside\"]\n",
    "LA_county = ca_real_estate_df[ca_real_estate_df['County '] == \"Los Angeles\"]"
   ]
  },
  {
   "cell_type": "code",
   "execution_count": 21,
   "metadata": {},
   "outputs": [],
   "source": [
    "LA_July = LA_county[LA_county['month'] == 7.]\n",
    "LA_August = LA_county[LA_county['month'] == 8.]\n",
    "LA_September = LA_county[LA_county['month'] == 9.]"
   ]
  },
  {
   "cell_type": "code",
   "execution_count": 22,
   "metadata": {},
   "outputs": [],
   "source": [
    "Orange_July = orange_county[orange_county['month'] == 7.]\n",
    "Orange_August = orange_county[orange_county['month'] == 8.]\n",
    "Orange_September = orange_county[orange_county['month'] == 9.]"
   ]
  },
  {
   "cell_type": "code",
   "execution_count": 23,
   "metadata": {},
   "outputs": [
    {
     "data": {
      "text/plain": [
       "Ttest_indResult(statistic=0.3852604381818285, pvalue=0.7000715473909171)"
      ]
     },
     "execution_count": 23,
     "metadata": {},
     "output_type": "execute_result"
    }
   ],
   "source": [
    "#T-Test July-Aug\n",
    "ttest_ind(LA_July['L/C Price'], LA_August['L/C Price'])"
   ]
  },
  {
   "cell_type": "code",
   "execution_count": 24,
   "metadata": {
    "scrolled": false
   },
   "outputs": [
    {
     "data": {
      "text/plain": [
       "Ttest_indResult(statistic=0.6544382122427264, pvalue=0.5128696349155442)"
      ]
     },
     "execution_count": 24,
     "metadata": {},
     "output_type": "execute_result"
    }
   ],
   "source": [
    "#T-Test Aug- Sept\n",
    "ttest_ind(LA_August['L/C Price'], LA_September['L/C Price'])"
   ]
  },
  {
   "cell_type": "code",
   "execution_count": 25,
   "metadata": {},
   "outputs": [
    {
     "data": {
      "text/plain": [
       "Ttest_indResult(statistic=0.9641471110255895, pvalue=0.3350516335231587)"
      ]
     },
     "execution_count": 25,
     "metadata": {},
     "output_type": "execute_result"
    }
   ],
   "source": [
    "#T-Test July-Sept\n",
    "ttest_ind(LA_July['L/C Price'], LA_September['L/C Price'])"
   ]
  },
  {
   "cell_type": "code",
   "execution_count": 26,
   "metadata": {},
   "outputs": [
    {
     "data": {
      "text/html": [
       "<div>\n",
       "<style scoped>\n",
       "    .dataframe tbody tr th:only-of-type {\n",
       "        vertical-align: middle;\n",
       "    }\n",
       "\n",
       "    .dataframe tbody tr th {\n",
       "        vertical-align: top;\n",
       "    }\n",
       "\n",
       "    .dataframe thead th {\n",
       "        text-align: right;\n",
       "    }\n",
       "</style>\n",
       "<table border=\"1\" class=\"dataframe\">\n",
       "  <thead>\n",
       "    <tr style=\"text-align: right;\">\n",
       "      <th></th>\n",
       "      <th>Unnamed: 0</th>\n",
       "      <th>Listing ID</th>\n",
       "      <th>S</th>\n",
       "      <th>Sub Type</th>\n",
       "      <th>St#</th>\n",
       "      <th>St Name</th>\n",
       "      <th>City</th>\n",
       "      <th>MLS Area</th>\n",
       "      <th>SLC</th>\n",
       "      <th>L/C Price</th>\n",
       "      <th>Price Per Square Foot</th>\n",
       "      <th>Br/Ba</th>\n",
       "      <th>Sqft/A</th>\n",
       "      <th>YrBuilt</th>\n",
       "      <th>LSqft/Ac</th>\n",
       "      <th>...</th>\n",
       "      <th>View YN</th>\n",
       "      <th>Pool Private YN</th>\n",
       "      <th>BAC</th>\n",
       "      <th>Date</th>\n",
       "      <th>MLS</th>\n",
       "      <th>County</th>\n",
       "      <th>month</th>\n",
       "      <th>Year</th>\n",
       "      <th>A</th>\n",
       "      <th>B</th>\n",
       "      <th>C</th>\n",
       "      <th>Bed</th>\n",
       "      <th>Bath</th>\n",
       "      <th>LSqft</th>\n",
       "      <th>Ac</th>\n",
       "    </tr>\n",
       "  </thead>\n",
       "  <tbody>\n",
       "    <tr>\n",
       "      <th>3864</th>\n",
       "      <td>1</td>\n",
       "      <td>PW19173285</td>\n",
       "      <td>S</td>\n",
       "      <td>SFR/D</td>\n",
       "      <td>5861</td>\n",
       "      <td>Hardwick ST</td>\n",
       "      <td>LW</td>\n",
       "      <td>23</td>\n",
       "      <td>STD</td>\n",
       "      <td>557500.0</td>\n",
       "      <td>325.45</td>\n",
       "      <td>4/2,0,0,0</td>\n",
       "      <td>1713</td>\n",
       "      <td>1951</td>\n",
       "      <td>5,407/0.1241</td>\n",
       "      <td>...</td>\n",
       "      <td>N</td>\n",
       "      <td>N</td>\n",
       "      <td>2.5</td>\n",
       "      <td>2019-07-26</td>\n",
       "      <td>CRMLSM</td>\n",
       "      <td>Los Angeles</td>\n",
       "      <td>7.0</td>\n",
       "      <td>2019.0</td>\n",
       "      <td>0</td>\n",
       "      <td>0</td>\n",
       "      <td>0</td>\n",
       "      <td>4</td>\n",
       "      <td>2</td>\n",
       "      <td>5407.0</td>\n",
       "      <td>0.1241</td>\n",
       "    </tr>\n",
       "    <tr>\n",
       "      <th>3884</th>\n",
       "      <td>1</td>\n",
       "      <td>PW19173295</td>\n",
       "      <td>S</td>\n",
       "      <td>SFR/D</td>\n",
       "      <td>4708</td>\n",
       "      <td>Dunrobin AVE</td>\n",
       "      <td>LW</td>\n",
       "      <td>23</td>\n",
       "      <td>STD</td>\n",
       "      <td>765000.0</td>\n",
       "      <td>380.22</td>\n",
       "      <td>4/3,0,0,0</td>\n",
       "      <td>2012</td>\n",
       "      <td>1950</td>\n",
       "      <td>5,001/0.1148</td>\n",
       "      <td>...</td>\n",
       "      <td>N</td>\n",
       "      <td>Y</td>\n",
       "      <td>2.5</td>\n",
       "      <td>2019-07-31</td>\n",
       "      <td>CRMLSM</td>\n",
       "      <td>Los Angeles</td>\n",
       "      <td>7.0</td>\n",
       "      <td>2019.0</td>\n",
       "      <td>0</td>\n",
       "      <td>0</td>\n",
       "      <td>0</td>\n",
       "      <td>4</td>\n",
       "      <td>3</td>\n",
       "      <td>5001.0</td>\n",
       "      <td>0.1148</td>\n",
       "    </tr>\n",
       "    <tr>\n",
       "      <th>3972</th>\n",
       "      <td>1</td>\n",
       "      <td>PW19173644</td>\n",
       "      <td>S</td>\n",
       "      <td>SFR/D</td>\n",
       "      <td>6259 E</td>\n",
       "      <td>Monita ST</td>\n",
       "      <td>LONG</td>\n",
       "      <td>37</td>\n",
       "      <td>STD</td>\n",
       "      <td>950000.0</td>\n",
       "      <td>412.86</td>\n",
       "      <td>4/3,0,0,0</td>\n",
       "      <td>2301</td>\n",
       "      <td>1961</td>\n",
       "      <td>5,787/0.1329</td>\n",
       "      <td>...</td>\n",
       "      <td>N</td>\n",
       "      <td>N</td>\n",
       "      <td>2.5</td>\n",
       "      <td>2019-07-16</td>\n",
       "      <td>CRMLSM</td>\n",
       "      <td>Los Angeles</td>\n",
       "      <td>7.0</td>\n",
       "      <td>2019.0</td>\n",
       "      <td>0</td>\n",
       "      <td>0</td>\n",
       "      <td>0</td>\n",
       "      <td>4</td>\n",
       "      <td>3</td>\n",
       "      <td>5787.0</td>\n",
       "      <td>0.1329</td>\n",
       "    </tr>\n",
       "    <tr>\n",
       "      <th>3985</th>\n",
       "      <td>1</td>\n",
       "      <td>PW19163328</td>\n",
       "      <td>S</td>\n",
       "      <td>SFR/D</td>\n",
       "      <td>1930</td>\n",
       "      <td>Sharpless DR</td>\n",
       "      <td>LHH</td>\n",
       "      <td>88</td>\n",
       "      <td>STD</td>\n",
       "      <td>800000.0</td>\n",
       "      <td>208.01</td>\n",
       "      <td>5/4,0,0,0</td>\n",
       "      <td>3846</td>\n",
       "      <td>1949</td>\n",
       "      <td>49,190/1.1292</td>\n",
       "      <td>...</td>\n",
       "      <td>Y</td>\n",
       "      <td>Y</td>\n",
       "      <td>2</td>\n",
       "      <td>2019-07-10</td>\n",
       "      <td>CRMLSM</td>\n",
       "      <td>Los Angeles</td>\n",
       "      <td>7.0</td>\n",
       "      <td>2019.0</td>\n",
       "      <td>0</td>\n",
       "      <td>0</td>\n",
       "      <td>0</td>\n",
       "      <td>5</td>\n",
       "      <td>4</td>\n",
       "      <td>49190.0</td>\n",
       "      <td>1.1292</td>\n",
       "    </tr>\n",
       "    <tr>\n",
       "      <th>3993</th>\n",
       "      <td>1</td>\n",
       "      <td>SB19171860</td>\n",
       "      <td>S</td>\n",
       "      <td>SFR/D</td>\n",
       "      <td>5936 S</td>\n",
       "      <td>Chariton AVE</td>\n",
       "      <td>LADH</td>\n",
       "      <td>103</td>\n",
       "      <td>STD</td>\n",
       "      <td>1400000.0</td>\n",
       "      <td>696.86</td>\n",
       "      <td>3/2,0,0,0</td>\n",
       "      <td>2009</td>\n",
       "      <td>1955</td>\n",
       "      <td>7,802/0.1791</td>\n",
       "      <td>...</td>\n",
       "      <td>Y</td>\n",
       "      <td>N</td>\n",
       "      <td>2.5</td>\n",
       "      <td>2019-07-17</td>\n",
       "      <td>CRMLSM</td>\n",
       "      <td>Los Angeles</td>\n",
       "      <td>7.0</td>\n",
       "      <td>2019.0</td>\n",
       "      <td>0</td>\n",
       "      <td>0</td>\n",
       "      <td>0</td>\n",
       "      <td>3</td>\n",
       "      <td>2</td>\n",
       "      <td>7802.0</td>\n",
       "      <td>0.1791</td>\n",
       "    </tr>\n",
       "  </tbody>\n",
       "</table>\n",
       "<p>5 rows × 31 columns</p>\n",
       "</div>"
      ],
      "text/plain": [
       "      Unnamed: 0  Listing ID   S Sub Type     St#         St Name  City  \\\n",
       "3864           1  PW19173285   S    SFR/D    5861   Hardwick ST      LW   \n",
       "3884           1  PW19173295  S     SFR/D    4708  Dunrobin AVE      LW   \n",
       "3972           1  PW19173644   S    SFR/D  6259 E     Monita ST    LONG   \n",
       "3985           1  PW19163328   S    SFR/D    1930  Sharpless DR     LHH   \n",
       "3993           1  SB19171860   S    SFR/D  5936 S  Chariton AVE    LADH   \n",
       "\n",
       "     MLS Area  SLC  L/C Price  Price Per Square Foot      Br/Ba Sqft/A  \\\n",
       "3864       23  STD   557500.0                 325.45  4/2,0,0,0   1713   \n",
       "3884       23  STD   765000.0                 380.22  4/3,0,0,0   2012   \n",
       "3972       37  STD   950000.0                 412.86  4/3,0,0,0   2301   \n",
       "3985       88  STD   800000.0                 208.01  5/4,0,0,0   3846   \n",
       "3993      103  STD  1400000.0                 696.86  3/2,0,0,0   2009   \n",
       "\n",
       "     YrBuilt       LSqft/Ac  ... View YN Pool Private YN  BAC       Date  \\\n",
       "3864    1951   5,407/0.1241  ...       N               N  2.5 2019-07-26   \n",
       "3884    1950   5,001/0.1148  ...       N               Y  2.5 2019-07-31   \n",
       "3972    1961   5,787/0.1329  ...       N               N  2.5 2019-07-16   \n",
       "3985    1949  49,190/1.1292  ...       Y               Y    2 2019-07-10   \n",
       "3993    1955   7,802/0.1791  ...       Y               N  2.5 2019-07-17   \n",
       "\n",
       "         MLS      County  month    Year  A  B  C Bed Bath    LSqft      Ac  \n",
       "3864  CRMLSM  Los Angeles   7.0  2019.0  0  0  0   4    2   5407.0  0.1241  \n",
       "3884  CRMLSM  Los Angeles   7.0  2019.0  0  0  0   4    3   5001.0  0.1148  \n",
       "3972  CRMLSM  Los Angeles   7.0  2019.0  0  0  0   4    3   5787.0  0.1329  \n",
       "3985  CRMLSM  Los Angeles   7.0  2019.0  0  0  0   5    4  49190.0  1.1292  \n",
       "3993  CRMLSM  Los Angeles   7.0  2019.0  0  0  0   3    2   7802.0  0.1791  \n",
       "\n",
       "[5 rows x 31 columns]"
      ]
     },
     "execution_count": 26,
     "metadata": {},
     "output_type": "execute_result"
    }
   ],
   "source": [
    "LA_July.head()"
   ]
  },
  {
   "cell_type": "code",
   "execution_count": 27,
   "metadata": {},
   "outputs": [],
   "source": [
    "LA_county_df = \"Listing ID\", \"Date\", \"County\", \"month\""
   ]
  },
  {
   "cell_type": "code",
   "execution_count": null,
   "metadata": {},
   "outputs": [],
   "source": [
    "\n"
   ]
  },
  {
   "cell_type": "code",
   "execution_count": null,
   "metadata": {},
   "outputs": [],
   "source": []
  },
  {
   "cell_type": "code",
   "execution_count": null,
   "metadata": {},
   "outputs": [],
   "source": []
  },
  {
   "cell_type": "code",
   "execution_count": null,
   "metadata": {},
   "outputs": [],
   "source": []
  },
  {
   "cell_type": "code",
   "execution_count": null,
   "metadata": {},
   "outputs": [],
   "source": []
  }
 ],
 "metadata": {
  "kernelspec": {
   "display_name": "Python 3",
   "language": "python",
   "name": "python3"
  },
  "language_info": {
   "codemirror_mode": {
    "name": "ipython",
    "version": 3
   },
   "file_extension": ".py",
   "mimetype": "text/x-python",
   "name": "python",
   "nbconvert_exporter": "python",
   "pygments_lexer": "ipython3",
   "version": "3.7.3"
  }
 },
 "nbformat": 4,
 "nbformat_minor": 2
}
