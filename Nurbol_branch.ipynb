{
 "cells": [
  {
   "cell_type": "code",
   "execution_count": 51,
   "metadata": {},
   "outputs": [],
   "source": [
    "import pandas as pd\n",
    "import numpy as np\n",
    "import datetime as dt\n",
    "from scipy.stats import ttest_ind\n",
    "import matplotlib.pyplot as plt\n",
    "from matplotlib.pyplot import figure"
   ]
  },
  {
   "cell_type": "code",
   "execution_count": 52,
   "metadata": {},
   "outputs": [],
   "source": [
    "#how the California real estate market has been affected by the increase in interest rate. \n",
    "pd.set_option('display.max_columns', 30)"
   ]
  },
  {
   "cell_type": "code",
   "execution_count": 53,
   "metadata": {},
   "outputs": [],
   "source": [
    "# Closed Prices raw data\n",
    "ca_real_estate = pd.read_csv(\"Resources/California_Real_Estate_Raw_Data_Set.csv\")\n",
    "# Current Prices raw data\n",
    "current_prices = pd.read_csv(\"Resources/Current_prices.csv\")"
   ]
  },
  {
   "cell_type": "code",
   "execution_count": 54,
   "metadata": {},
   "outputs": [],
   "source": [
    "# Closed Prices \n",
    "ca_real_estate_df = ca_real_estate\n",
    "# Current Price\n",
    "current_market_df = current_prices"
   ]
  },
  {
   "cell_type": "code",
   "execution_count": 55,
   "metadata": {},
   "outputs": [],
   "source": [
    "# Closed Prices renaming column\n",
    "ca_real_estate_df.rename(columns = {\"Contract Status Change Date\": \"Date\"}, inplace = True)\n",
    "# Current Prices renaming column\n",
    "current_market_df.rename(columns = {\"Contract Status Change Date\": \"Date\"}, inplace = True)"
   ]
  },
  {
   "cell_type": "code",
   "execution_count": 56,
   "metadata": {},
   "outputs": [],
   "source": [
    "# Closed Prices: changed object to date time format\n",
    "ca_real_estate_df.Date = pd.to_datetime(ca_real_estate_df.Date, format = \"%m/%d/%y\")\n",
    "# Current Prices: change object to date time format\n",
    "current_market_df.Date = pd.to_datetime(current_market_df.Date, format = \"%m/%d/%y\")"
   ]
  },
  {
   "cell_type": "code",
   "execution_count": 57,
   "metadata": {},
   "outputs": [],
   "source": [
    "# Add column for just the month\n",
    "ca_real_estate_df[\"month\"] = ca_real_estate_df.Date.dt.month\n",
    "# add column for just the month \n",
    "current_market_df['month'] = current_market_df.Date.dt.month"
   ]
  },
  {
   "cell_type": "code",
   "execution_count": 58,
   "metadata": {},
   "outputs": [],
   "source": [
    "# add column for just the year \n",
    "ca_real_estate_df[\"Year\"] = ca_real_estate_df.Date.dt.year\n",
    "# add column for just the year \n",
    "current_market_df['Year'] = current_market_df.Date.dt.year"
   ]
  },
  {
   "cell_type": "code",
   "execution_count": 59,
   "metadata": {},
   "outputs": [],
   "source": [
    "# change format for the Price Per Square Foot Column\n",
    "ca_real_estate_df[['Price Per Square Foot']] = ca_real_estate_df[['Price Per Square Foot']].replace('[\\$,]','',regex=True).astype(float)\n",
    "# change format for the Price Per Square Foot Column\n",
    "current_market_df[['Price Per Square Foot']] = current_market_df[['Price Per Square Foot']].replace('[\\$,]','',regex=True).astype(float)"
   ]
  },
  {
   "cell_type": "code",
   "execution_count": 60,
   "metadata": {},
   "outputs": [],
   "source": [
    "# Change column to float from object \n",
    "ca_real_estate_df[['L/C Price']] = ca_real_estate_df[['L/C Price']].replace('[\\$,]','',regex=True).astype(float)\n",
    "# change column to float from object\n",
    "current_market_df[['L/C Price']] = current_market_df[['L/C Price']].replace('[\\$,]','',regex=True).astype(float)"
   ]
  },
  {
   "cell_type": "code",
   "execution_count": 61,
   "metadata": {},
   "outputs": [],
   "source": [
    "# Droped the ending of the Column \n",
    "ca_real_estate_df[[\"Sqft\"]] = ca_real_estate_df.Sqft.str.split('/', expand=True).drop([1], axis = 1)\n",
    "current_market_df[['Sqft']] = current_market_df.Sqft.str.split('/', expand=True).drop([1], axis = 1)\n"
   ]
  },
  {
   "cell_type": "code",
   "execution_count": 62,
   "metadata": {},
   "outputs": [],
   "source": [
    "ca_real_estate_df[[\"YrBuilt\"]] = ca_real_estate_df.YrBuilt.str.split('/', expand=True).drop([1], axis = 1)\n",
    "current_market_df[['YrBuilt']] = current_market_df.YrBuilt.str.split('/', expand=True).drop([1], axis = 1)"
   ]
  },
  {
   "cell_type": "code",
   "execution_count": 63,
   "metadata": {},
   "outputs": [],
   "source": [
    "ca_real_estate_df[[\"Bed & Bath\", \"A\", \"B\", \"C\"]] = ca_real_estate_df['Br/Ba'].str.split(\",\", expand = True)\n",
    "ca_real_estate_df[[\"Bed\", \"Bath\"]] = ca_real_estate_df[\"Bed & Bath\"].str.split(\"/\", expand = True)\n",
    "\n",
    "current_market_df[[\"Bed & Bath\", \"A\", \"B\", \"C\"]] = current_market_df['Br/Ba'].str.split(\",\", expand = True)\n",
    "current_market_df[[\"Bed\", \"Bath\"]] = current_market_df[\"Bed & Bath\"].str.split(\"/\", expand = True)\n",
    "#fix bathroom into a float\n"
   ]
  },
  {
   "cell_type": "code",
   "execution_count": 64,
   "metadata": {},
   "outputs": [],
   "source": [
    "ca_real_estate_df = ca_real_estate_df.drop(columns = ['Bed & Bath'])\n",
    "current_market_df = current_market_df.drop(columns = ['Bed & Bath'])\n"
   ]
  },
  {
   "cell_type": "code",
   "execution_count": 65,
   "metadata": {},
   "outputs": [],
   "source": [
    "ca_real_estate_df.rename(columns = {\"Sqft\": \"Sqft/A\"}, inplace = True)\n",
    "ca_real_estate_df[[\"LSqft\", \"Ac\"]] = ca_real_estate_df['LSqft/Ac'].str.split('/', expand = True).replace('[\\$,]','',regex=True).astype(float)\n",
    "\n",
    "current_market_df.rename(columns = {\"Sqft\": \"Sqft/A\"}, inplace = True)\n",
    "current_market_df[[\"LSqft\", \"Ac\"]] = current_market_df['LSqft/Ac'].str.split('/', expand = True).replace('[\\$,]','',regex=True).astype(float)"
   ]
  },
  {
   "cell_type": "code",
   "execution_count": 66,
   "metadata": {},
   "outputs": [],
   "source": [
    "# Closed Prices\n",
    "sales_data_month_df = ca_real_estate_df.loc[:,[\"Listing ID\", \"L/C Price\", \"month\", \"County \"]]\n",
    "# Current Listed Prices\n",
    "current_market = current_market_df.loc[:, [\"Listing ID\", \"L/C Price\", \"month\", \"County\"]]"
   ]
  },
  {
   "cell_type": "code",
   "execution_count": 67,
   "metadata": {},
   "outputs": [],
   "source": [
    "#Closed Prices\n",
    "July_df = sales_data_month_df[sales_data_month_df[\"month\"] == 7.]\n",
    "August_df = sales_data_month_df[sales_data_month_df[\"month\"] == 8.]\n",
    "Sept_df = sales_data_month_df[sales_data_month_df[\"month\"] == 9.]\n",
    "#Current Listed Prices\n",
    "current_July_df = current_market[current_market['month'] == 7.]\n",
    "current_August_df = current_market[current_market['month'] == 8.]\n",
    "current_September_df = current_market[current_market['month'] == 9.]"
   ]
  },
  {
   "cell_type": "code",
   "execution_count": 68,
   "metadata": {},
   "outputs": [
    {
     "data": {
      "text/plain": [
       "Ttest_indResult(statistic=18.562720974798353, pvalue=5.320017767949999e-76)"
      ]
     },
     "execution_count": 68,
     "metadata": {},
     "output_type": "execute_result"
    }
   ],
   "source": [
    "#Closed Prices\n",
    "ttest_ind(July_df['L/C Price'], Sept_df['L/C Price'])"
   ]
  },
  {
   "cell_type": "code",
   "execution_count": 69,
   "metadata": {},
   "outputs": [
    {
     "data": {
      "text/plain": [
       "Ttest_indResult(statistic=4.997865212120273, pvalue=6.003407022864367e-07)"
      ]
     },
     "execution_count": 69,
     "metadata": {},
     "output_type": "execute_result"
    }
   ],
   "source": [
    "#Current Listed Prices\n",
    "ttest_ind(current_July_df['L/C Price'], current_September_df['L/C Price'])"
   ]
  },
  {
   "cell_type": "code",
   "execution_count": null,
   "metadata": {},
   "outputs": [],
   "source": []
  },
  {
   "cell_type": "code",
   "execution_count": 70,
   "metadata": {},
   "outputs": [],
   "source": [
    "# Closed Prices\n",
    "orange_county = sales_data_month_df[sales_data_month_df['County '] == \"Orange\"]\n",
    "Riverside_county = sales_data_month_df[sales_data_month_df['County '] == \"Riverside\"]\n",
    "LA_county = sales_data_month_df[sales_data_month_df['County '] == \"Los Angeles\"]\n",
    "\n",
    "# Current Listed Prices\n",
    "current_oc = current_market[current_market['County']==\"Orange\"]\n",
    "current_la = current_market[current_market['County']==\"Los Angeles\"]\n",
    "current_riverside = current_market[current_market['County']==\"Riverside\"]\n"
   ]
  },
  {
   "cell_type": "code",
   "execution_count": 71,
   "metadata": {},
   "outputs": [
    {
     "data": {
      "text/html": [
       "<div>\n",
       "<style scoped>\n",
       "    .dataframe tbody tr th:only-of-type {\n",
       "        vertical-align: middle;\n",
       "    }\n",
       "\n",
       "    .dataframe tbody tr th {\n",
       "        vertical-align: top;\n",
       "    }\n",
       "\n",
       "    .dataframe thead th {\n",
       "        text-align: right;\n",
       "    }\n",
       "</style>\n",
       "<table border=\"1\" class=\"dataframe\">\n",
       "  <thead>\n",
       "    <tr style=\"text-align: right;\">\n",
       "      <th></th>\n",
       "      <th>Listing ID</th>\n",
       "      <th>L/C Price</th>\n",
       "      <th>month</th>\n",
       "      <th>County</th>\n",
       "    </tr>\n",
       "  </thead>\n",
       "  <tbody>\n",
       "    <tr>\n",
       "      <th>0</th>\n",
       "      <td>PW19179972</td>\n",
       "      <td>1070000.0</td>\n",
       "      <td>9.0</td>\n",
       "      <td>Orange</td>\n",
       "    </tr>\n",
       "    <tr>\n",
       "      <th>1</th>\n",
       "      <td>PW19150297</td>\n",
       "      <td>1299000.0</td>\n",
       "      <td>8.0</td>\n",
       "      <td>Orange</td>\n",
       "    </tr>\n",
       "    <tr>\n",
       "      <th>2</th>\n",
       "      <td>OC19161923</td>\n",
       "      <td>590000.0</td>\n",
       "      <td>8.0</td>\n",
       "      <td>Orange</td>\n",
       "    </tr>\n",
       "    <tr>\n",
       "      <th>3</th>\n",
       "      <td>OC19194337</td>\n",
       "      <td>679000.0</td>\n",
       "      <td>9.0</td>\n",
       "      <td>Orange</td>\n",
       "    </tr>\n",
       "    <tr>\n",
       "      <th>4</th>\n",
       "      <td>OC19155053</td>\n",
       "      <td>715000.0</td>\n",
       "      <td>8.0</td>\n",
       "      <td>Orange</td>\n",
       "    </tr>\n",
       "  </tbody>\n",
       "</table>\n",
       "</div>"
      ],
      "text/plain": [
       "   Listing ID  L/C Price  month County \n",
       "0  PW19179972  1070000.0    9.0  Orange\n",
       "1  PW19150297  1299000.0    8.0  Orange\n",
       "2  OC19161923   590000.0    8.0  Orange\n",
       "3  OC19194337   679000.0    9.0  Orange\n",
       "4  OC19155053   715000.0    8.0  Orange"
      ]
     },
     "execution_count": 71,
     "metadata": {},
     "output_type": "execute_result"
    }
   ],
   "source": [
    "orange_county.head()"
   ]
  },
  {
   "cell_type": "code",
   "execution_count": 72,
   "metadata": {},
   "outputs": [
    {
     "data": {
      "text/html": [
       "<div>\n",
       "<style scoped>\n",
       "    .dataframe tbody tr th:only-of-type {\n",
       "        vertical-align: middle;\n",
       "    }\n",
       "\n",
       "    .dataframe tbody tr th {\n",
       "        vertical-align: top;\n",
       "    }\n",
       "\n",
       "    .dataframe thead th {\n",
       "        text-align: right;\n",
       "    }\n",
       "</style>\n",
       "<table border=\"1\" class=\"dataframe\">\n",
       "  <thead>\n",
       "    <tr style=\"text-align: right;\">\n",
       "      <th></th>\n",
       "      <th></th>\n",
       "      <th>L/C Price</th>\n",
       "    </tr>\n",
       "    <tr>\n",
       "      <th>County</th>\n",
       "      <th>month</th>\n",
       "      <th></th>\n",
       "    </tr>\n",
       "  </thead>\n",
       "  <tbody>\n",
       "    <tr>\n",
       "      <th rowspan=\"5\" valign=\"top\">Orange</th>\n",
       "      <th>5.0</th>\n",
       "      <td>898127.404255</td>\n",
       "    </tr>\n",
       "    <tr>\n",
       "      <th>6.0</th>\n",
       "      <td>840646.203333</td>\n",
       "    </tr>\n",
       "    <tr>\n",
       "      <th>7.0</th>\n",
       "      <td>836414.490964</td>\n",
       "    </tr>\n",
       "    <tr>\n",
       "      <th>8.0</th>\n",
       "      <td>828147.472422</td>\n",
       "    </tr>\n",
       "    <tr>\n",
       "      <th>9.0</th>\n",
       "      <td>846740.221239</td>\n",
       "    </tr>\n",
       "  </tbody>\n",
       "</table>\n",
       "</div>"
      ],
      "text/plain": [
       "                   L/C Price\n",
       "County  month               \n",
       "Orange  5.0    898127.404255\n",
       "        6.0    840646.203333\n",
       "        7.0    836414.490964\n",
       "        8.0    828147.472422\n",
       "        9.0    846740.221239"
      ]
     },
     "execution_count": 72,
     "metadata": {},
     "output_type": "execute_result"
    }
   ],
   "source": [
    "orange_closed_average = orange_county.groupby(['County ', 'month']).mean()\n",
    "la_closed_average = LA_county.groupby(['County ', 'month']).mean()\n",
    "riverside_closed_average = Riverside_county.groupby(['County ', 'month']).mean()\n",
    "orange_closed_average"
   ]
  },
  {
   "cell_type": "code",
   "execution_count": 73,
   "metadata": {},
   "outputs": [],
   "source": [
    "# Closed Prices\n",
    "LA_July = LA_county[LA_county['month'] == 7.]\n",
    "LA_August = LA_county[LA_county['month'] == 8.]\n",
    "LA_September = LA_county[LA_county['month'] == 9.]\n",
    "\n",
    "# Closed Prices Merged DataFrame LA County\n",
    "summer_closed_LA = LA_July.append(LA_August, ignore_index = True)\n",
    "summer_closed_LA = summer_closed_LA.append(LA_September, ignore_index = True)\n",
    "\n",
    "# Current Listed Prices\n",
    "currentLA_July = current_la[current_la['month']==7.]\n",
    "currentLA_August = current_la[current_la['month']==8.]\n",
    "currentLA_Sept = current_la[current_la['month']==9.]\n",
    "\n",
    "# Current Listed Merged DataFrame LA County\n",
    "summer_current_LA = currentLA_July.append(currentLA_August, ignore_index = True)\n",
    "summer_current_LA = summer_current_LA.append(currentLA_Sept, ignore_index = True)"
   ]
  },
  {
   "cell_type": "code",
   "execution_count": 74,
   "metadata": {},
   "outputs": [],
   "source": [
    "# Closed Prices\n",
    "Orange_July = orange_county[orange_county['month'] == 7.]\n",
    "Orange_August = orange_county[orange_county['month'] == 8.]\n",
    "Orange_September = orange_county[orange_county['month'] == 9.]\n",
    "\n",
    "# Closed Prices Merged DataFrame Orange County\n",
    "summer_closed_OC = Orange_July.append(Orange_August, ignore_index = True)\n",
    "summer_closed_OC = summer_closed_OC.append(Orange_September, ignore_index = True)\n",
    "\n",
    "# Current Listed Prices\n",
    "currentOC_July = current_oc[current_oc['month']== 7.]\n",
    "currentOC_August = current_oc[current_oc['month']== 8.]\n",
    "currentOC_Sept = current_oc[current_oc['month']== 9.]\n",
    "\n",
    "# Current Listed Merged DataFrame Orange County\n",
    "summer_current_OC = currentOC_July.append(currentOC_August, ignore_index = True)\n",
    "summer_current_OC = summer_current_OC.append(currentOC_Sept, ignore_index = True)\n"
   ]
  },
  {
   "cell_type": "code",
   "execution_count": null,
   "metadata": {},
   "outputs": [],
   "source": []
  },
  {
   "cell_type": "code",
   "execution_count": 75,
   "metadata": {},
   "outputs": [],
   "source": [
    "# Closed Prices\n",
    "Riverside_county_July = Riverside_county[Riverside_county['month'] == 7.]\n",
    "Riverside_county_August = Riverside_county[Riverside_county['month'] == 8.]\n",
    "Riverside_county_September = Riverside_county[Riverside_county['month'] == 9.]\n",
    "\n",
    "# Closed Prices Merged DataFrame Riverside County\n",
    "summer_closed_RC = Riverside_county_July.append(Riverside_county_August, ignore_index = True)\n",
    "summer_closed_RC = summer_closed_RC.append(Riverside_county_September, ignore_index = True)\n",
    "\n",
    "\n",
    "# Current Listed Prices\n",
    "current_riverside_July = current_riverside[current_riverside['month']==7.]\n",
    "current_riverside_August = current_riverside[current_riverside['month']==8.]\n",
    "current_riverside_September = current_riverside[current_riverside['month']==9.]\n",
    "\n",
    "# Current Listed Merged DataFrame Riverside County\n",
    "summer_current_RC = current_riverside_July.append(current_riverside_August, ignore_index = True)\n",
    "summer_current_RC = summer_current_RC.append(current_riverside_September, ignore_index = True)\n"
   ]
  },
  {
   "cell_type": "code",
   "execution_count": 76,
   "metadata": {},
   "outputs": [],
   "source": [
    "test = summer_closed_RC"
   ]
  },
  {
   "cell_type": "code",
   "execution_count": 77,
   "metadata": {},
   "outputs": [
    {
     "data": {
      "text/html": [
       "<div>\n",
       "<style scoped>\n",
       "    .dataframe tbody tr th:only-of-type {\n",
       "        vertical-align: middle;\n",
       "    }\n",
       "\n",
       "    .dataframe tbody tr th {\n",
       "        vertical-align: top;\n",
       "    }\n",
       "\n",
       "    .dataframe thead th {\n",
       "        text-align: right;\n",
       "    }\n",
       "</style>\n",
       "<table border=\"1\" class=\"dataframe\">\n",
       "  <thead>\n",
       "    <tr style=\"text-align: right;\">\n",
       "      <th></th>\n",
       "      <th>Listing ID</th>\n",
       "      <th>L/C Price</th>\n",
       "      <th>month</th>\n",
       "      <th>County</th>\n",
       "    </tr>\n",
       "  </thead>\n",
       "  <tbody>\n",
       "    <tr>\n",
       "      <th>9639</th>\n",
       "      <td>EV19204795</td>\n",
       "      <td>234900.0</td>\n",
       "      <td>8.0</td>\n",
       "      <td>Riverside</td>\n",
       "    </tr>\n",
       "    <tr>\n",
       "      <th>9641</th>\n",
       "      <td>SW19206422</td>\n",
       "      <td>329500.0</td>\n",
       "      <td>8.0</td>\n",
       "      <td>Riverside</td>\n",
       "    </tr>\n",
       "    <tr>\n",
       "      <th>9648</th>\n",
       "      <td>DW19204094</td>\n",
       "      <td>400000.0</td>\n",
       "      <td>8.0</td>\n",
       "      <td>Riverside</td>\n",
       "    </tr>\n",
       "    <tr>\n",
       "      <th>9659</th>\n",
       "      <td>PW19204937</td>\n",
       "      <td>455000.0</td>\n",
       "      <td>8.0</td>\n",
       "      <td>Riverside</td>\n",
       "    </tr>\n",
       "    <tr>\n",
       "      <th>9697</th>\n",
       "      <td>SW19219369</td>\n",
       "      <td>539909.0</td>\n",
       "      <td>8.0</td>\n",
       "      <td>Riverside</td>\n",
       "    </tr>\n",
       "  </tbody>\n",
       "</table>\n",
       "</div>"
      ],
      "text/plain": [
       "      Listing ID  L/C Price  month    County \n",
       "9639  EV19204795   234900.0    8.0  Riverside\n",
       "9641  SW19206422   329500.0    8.0  Riverside\n",
       "9648  DW19204094   400000.0    8.0  Riverside\n",
       "9659  PW19204937   455000.0    8.0  Riverside\n",
       "9697  SW19219369   539909.0    8.0  Riverside"
      ]
     },
     "execution_count": 77,
     "metadata": {},
     "output_type": "execute_result"
    }
   ],
   "source": [
    "Riverside_county_August.head()"
   ]
  },
  {
   "cell_type": "code",
   "execution_count": 78,
   "metadata": {},
   "outputs": [
    {
     "data": {
      "text/plain": [
       "Ttest_indResult(statistic=2.003852052335435, pvalue=0.045238315410216105)"
      ]
     },
     "execution_count": 78,
     "metadata": {},
     "output_type": "execute_result"
    }
   ],
   "source": [
    "ttest_ind(Riverside_county_July['L/C Price'], Riverside_county_August['L/C Price'])"
   ]
  },
  {
   "cell_type": "code",
   "execution_count": 79,
   "metadata": {},
   "outputs": [
    {
     "data": {
      "text/plain": [
       "Ttest_indResult(statistic=0.30246401472707696, pvalue=0.7623122543211315)"
      ]
     },
     "execution_count": 79,
     "metadata": {},
     "output_type": "execute_result"
    }
   ],
   "source": [
    "ttest_ind(Riverside_county_August['L/C Price'], Riverside_county_September['L/C Price'])"
   ]
  },
  {
   "cell_type": "code",
   "execution_count": 80,
   "metadata": {},
   "outputs": [
    {
     "data": {
      "text/plain": [
       "Ttest_indResult(statistic=2.5243677460803093, pvalue=0.011634465377513578)"
      ]
     },
     "execution_count": 80,
     "metadata": {},
     "output_type": "execute_result"
    }
   ],
   "source": [
    "ttest_ind(Riverside_county_July['L/C Price'], Riverside_county_September['L/C Price'])"
   ]
  },
  {
   "cell_type": "code",
   "execution_count": 81,
   "metadata": {},
   "outputs": [],
   "source": [
    "# Interest Rate Data\n",
    "\n",
    "interest_rates = {'Date': ['January 2019', 'February 2019', 'March 2019', 'April 2019', 'May 2019','June 2019','July 2019', 'Augutst 2019', 'September 2019'], \n",
    "                 'Level(%)': [2.25,2.25,2.25,2.25,2.25,2.25,2.25, 2.00, 1.75]}"
   ]
  },
  {
   "cell_type": "code",
   "execution_count": 82,
   "metadata": {},
   "outputs": [],
   "source": [
    "# Interest Rate DataFrame\n",
    "interest_rates_df = pd.DataFrame(interest_rates)"
   ]
  },
  {
   "cell_type": "code",
   "execution_count": 83,
   "metadata": {},
   "outputs": [
    {
     "data": {
      "image/png": "[encoded data removed]",
      "text/plain": [
       "<Figure size 1440x432 with 1 Axes>"
      ]
     },
     "metadata": {
      "needs_background": "light"
     },
     "output_type": "display_data"
    }
   ],
   "source": [
    "# Interest Rate Graph 2019\n",
    "figure(num=None, figsize=(20,6))\n",
    "plt.plot(interest_rates_df['Date'], interest_rates_df['Level(%)'], color = \"red\")\n",
    "plt.title(\"Interest Rates\")\n",
    "plt.xlabel(\"Months\")\n",
    "plt.ylabel(\"Level(%)\")\n",
    "plt.grid()"
   ]
  },
  {
   "cell_type": "code",
   "execution_count": 84,
   "metadata": {},
   "outputs": [
    {
     "data": {
      "image/png": "[encoded data removed]",
      "text/plain": [
       "<Figure size 1440x432 with 1 Axes>"
      ]
     },
     "metadata": {
      "needs_background": "light"
     },
     "output_type": "display_data"
    }
   ],
   "source": [
    "#LA_county_closed_prices_sales_graph\n",
    "LA_df_closed_price = summer_closed_LA.groupby([\"County \", \"month\"]).mean().reset_index()\n",
    "LA_df_current_price = summer_current_LA.groupby([\"County\", \"month\"]).mean().reset_index()\n",
    "\n",
    "figure(num=None, figsize=(20,6))\n",
    "plt.plot(LA_df_closed_price['month'], LA_df_closed_price[\"L/C Price\"], color = \"red\", label =\"LA county closing price\")\n",
    "plt.plot(LA_df_current_price['month'], LA_df_current_price[\"L/C Price\"], color = \"blue\", label = \"LA county current price\")\n",
    "plt.title(\"LA County single family house sales graph by prices\")\n",
    "plt.legend(loc = \"upper right\")\n",
    "plt.xlabel(\"Months\")\n",
    "plt.ylabel(\"L/C Price\")\n",
    "plt.grid()"
   ]
  },
  {
   "cell_type": "code",
   "execution_count": 85,
   "metadata": {},
   "outputs": [
    {
     "data": {
      "image/png": "[encoded data removed]",
      "text/plain": [
       "<Figure size 1440x432 with 1 Axes>"
      ]
     },
     "metadata": {
      "needs_background": "light"
     },
     "output_type": "display_data"
    }
   ],
   "source": [
    "#OC_county_closed_prices_sales_graph\n",
    "OC_df_closed_price = summer_closed_OC.groupby([\"County \", \"month\"]).mean().reset_index()\n",
    "OC_df_current_price = summer_current_OC.groupby([\"County\", \"month\"]).mean().reset_index()\n",
    "\n",
    "figure(num=None, figsize=(20,6))\n",
    "plt.plot(OC_df_closed_price['month'], OC_df_closed_price[\"L/C Price\"], color = \"red\", label = \"OC closing price\")\n",
    "plt.plot(OC_df_current_price['month'], OC_df_current_price[\"L/C Price\"], color = \"blue\", label =\"OC current price\")\n",
    "plt.title(\"OC County single family house sales graph by prices\")\n",
    "plt.legend(loc = \"upper right\")\n",
    "plt.xlabel(\"Months\")\n",
    "plt.ylabel(\"Price\")\n",
    "plt.grid()"
   ]
  },
  {
   "cell_type": "code",
   "execution_count": 86,
   "metadata": {},
   "outputs": [
    {
     "data": {
      "image/png": "[encoded data removed]",
      "text/plain": [
       "<Figure size 1440x432 with 1 Axes>"
      ]
     },
     "metadata": {
      "needs_background": "light"
     },
     "output_type": "display_data"
    }
   ],
   "source": [
    "#RC_county_closed_prices_sales_graph\n",
    "RC_df_closed_price = summer_closed_RC.groupby([\"County \", \"month\"]).mean().reset_index()\n",
    "RC_df_current_price = summer_current_RC.groupby([\"County\", \"month\"]).mean().reset_index()\n",
    "\n",
    "figure(num=None, figsize=(20,6))\n",
    "plt.plot(RC_df_closed_price['month'], RC_df_closed_price[\"L/C Price\"], color = \"red\", label=\"RC closing price\")\n",
    "plt.plot(RC_df_current_price['month'], RC_df_current_price[\"L/C Price\"], color = \"blue\", label =\"RC current price\")\n",
    "plt.title(\"Riverside County single family house sales graph by prices\")\n",
    "plt.legend(loc = \"upper right\")\n",
    "plt.xlabel(\"Months\")\n",
    "plt.ylabel(\"Price\")\n",
    "plt.grid()"
   ]
  },
  {
   "cell_type": "code",
   "execution_count": 87,
   "metadata": {},
   "outputs": [],
   "source": [
    "#BINNING\n",
    "bins = [0, 400000, 800000, 1200000, 1600000, 2000000]\n",
    "group_names = [ \"<399,999\", \"400,000-799,999\", \"800,000-1,199,999\", \"1,200,000-1,599,999\", \"1,600,000-2000,000\"]"
   ]
  },
  {
   "cell_type": "code",
   "execution_count": 88,
   "metadata": {},
   "outputs": [
    {
     "data": {
      "text/html": [
       "<div>\n",
       "<style scoped>\n",
       "    .dataframe tbody tr th:only-of-type {\n",
       "        vertical-align: middle;\n",
       "    }\n",
       "\n",
       "    .dataframe tbody tr th {\n",
       "        vertical-align: top;\n",
       "    }\n",
       "\n",
       "    .dataframe thead th {\n",
       "        text-align: right;\n",
       "    }\n",
       "</style>\n",
       "<table border=\"1\" class=\"dataframe\">\n",
       "  <thead>\n",
       "    <tr style=\"text-align: right;\">\n",
       "      <th></th>\n",
       "      <th></th>\n",
       "      <th>Listing ID</th>\n",
       "      <th>L/C Price</th>\n",
       "      <th>month</th>\n",
       "      <th>County</th>\n",
       "    </tr>\n",
       "  </thead>\n",
       "  <tbody>\n",
       "    <tr>\n",
       "      <th>0</th>\n",
       "      <td>&lt;399,999</td>\n",
       "      <td>574</td>\n",
       "      <td>574</td>\n",
       "      <td>574</td>\n",
       "      <td>574</td>\n",
       "    </tr>\n",
       "    <tr>\n",
       "      <th>1</th>\n",
       "      <td>400,000-799,999</td>\n",
       "      <td>3246</td>\n",
       "      <td>3246</td>\n",
       "      <td>3246</td>\n",
       "      <td>3246</td>\n",
       "    </tr>\n",
       "    <tr>\n",
       "      <th>2</th>\n",
       "      <td>800,000-1,199,999</td>\n",
       "      <td>768</td>\n",
       "      <td>768</td>\n",
       "      <td>768</td>\n",
       "      <td>768</td>\n",
       "    </tr>\n",
       "    <tr>\n",
       "      <th>3</th>\n",
       "      <td>1,200,000-1,599,999</td>\n",
       "      <td>205</td>\n",
       "      <td>205</td>\n",
       "      <td>205</td>\n",
       "      <td>205</td>\n",
       "    </tr>\n",
       "    <tr>\n",
       "      <th>4</th>\n",
       "      <td>1,600,000-2000,000</td>\n",
       "      <td>66</td>\n",
       "      <td>66</td>\n",
       "      <td>66</td>\n",
       "      <td>66</td>\n",
       "    </tr>\n",
       "  </tbody>\n",
       "</table>\n",
       "</div>"
      ],
      "text/plain": [
       "                        Listing ID  L/C Price  month  County \n",
       "0             <399,999         574        574    574      574\n",
       "1      400,000-799,999        3246       3246   3246     3246\n",
       "2    800,000-1,199,999         768        768    768      768\n",
       "3  1,200,000-1,599,999         205        205    205      205\n",
       "4   1,600,000-2000,000          66         66     66       66"
      ]
     },
     "execution_count": 88,
     "metadata": {},
     "output_type": "execute_result"
    }
   ],
   "source": [
    "#summer_closed_LA.groupby([\"County \", \"month\"]\n",
    "summer_closed_LA[\"\"] =pd.cut(summer_closed_LA[\"L/C Price\"], bins, labels = group_names)\n",
    "group_closed_LA_data = summer_closed_LA.groupby(['']).count().reset_index()\n",
    "summer_current_LA[''] =pd.cut(summer_current_RC['L/C Price'], bins, labels = group_names)\n",
    "group_current_LA_data = summer_current_LA.groupby(['']).count().reset_index()\n",
    "group_closed_LA_data\n"
   ]
  },
  {
   "cell_type": "code",
   "execution_count": 89,
   "metadata": {},
   "outputs": [
    {
     "data": {
      "text/html": [
       "<div>\n",
       "<style scoped>\n",
       "    .dataframe tbody tr th:only-of-type {\n",
       "        vertical-align: middle;\n",
       "    }\n",
       "\n",
       "    .dataframe tbody tr th {\n",
       "        vertical-align: top;\n",
       "    }\n",
       "\n",
       "    .dataframe thead th {\n",
       "        text-align: right;\n",
       "    }\n",
       "</style>\n",
       "<table border=\"1\" class=\"dataframe\">\n",
       "  <thead>\n",
       "    <tr style=\"text-align: right;\">\n",
       "      <th></th>\n",
       "      <th></th>\n",
       "      <th>Listing ID</th>\n",
       "      <th>L/C Price</th>\n",
       "      <th>month</th>\n",
       "      <th>County</th>\n",
       "    </tr>\n",
       "  </thead>\n",
       "  <tbody>\n",
       "    <tr>\n",
       "      <th>0</th>\n",
       "      <td>&lt;399,999</td>\n",
       "      <td>4</td>\n",
       "      <td>4</td>\n",
       "      <td>4</td>\n",
       "      <td>4</td>\n",
       "    </tr>\n",
       "    <tr>\n",
       "      <th>1</th>\n",
       "      <td>400,000-799,999</td>\n",
       "      <td>508</td>\n",
       "      <td>508</td>\n",
       "      <td>508</td>\n",
       "      <td>508</td>\n",
       "    </tr>\n",
       "    <tr>\n",
       "      <th>2</th>\n",
       "      <td>800,000-1,199,999</td>\n",
       "      <td>532</td>\n",
       "      <td>532</td>\n",
       "      <td>532</td>\n",
       "      <td>532</td>\n",
       "    </tr>\n",
       "    <tr>\n",
       "      <th>3</th>\n",
       "      <td>1,200,000-1,599,999</td>\n",
       "      <td>194</td>\n",
       "      <td>194</td>\n",
       "      <td>194</td>\n",
       "      <td>194</td>\n",
       "    </tr>\n",
       "    <tr>\n",
       "      <th>4</th>\n",
       "      <td>1,600,000-2000,000</td>\n",
       "      <td>66</td>\n",
       "      <td>66</td>\n",
       "      <td>66</td>\n",
       "      <td>66</td>\n",
       "    </tr>\n",
       "  </tbody>\n",
       "</table>\n",
       "</div>"
      ],
      "text/plain": [
       "                        Listing ID  L/C Price  month  County\n",
       "0             <399,999           4          4      4       4\n",
       "1      400,000-799,999         508        508    508     508\n",
       "2    800,000-1,199,999         532        532    532     532\n",
       "3  1,200,000-1,599,999         194        194    194     194\n",
       "4   1,600,000-2000,000          66         66     66      66"
      ]
     },
     "execution_count": 89,
     "metadata": {},
     "output_type": "execute_result"
    }
   ],
   "source": [
    "#summer_closed_OC.groupby([\"County \", \"month\"]\n",
    "summer_closed_OC[\"\"] =pd.cut(summer_closed_OC[\"L/C Price\"], bins, labels = group_names)\n",
    "group_closed_OC_data = summer_closed_OC.groupby(['']).count().reset_index()\n",
    "summer_current_OC[''] =pd.cut(summer_current_OC['L/C Price'], bins, labels = group_names)\n",
    "group_current_OC_data = summer_current_OC.groupby(['']).count().reset_index()\n",
    "group_closed_OC_data\n",
    "group_current_OC_data"
   ]
  },
  {
   "cell_type": "code",
   "execution_count": 90,
   "metadata": {},
   "outputs": [],
   "source": [
    "#summer_closed_OC.groupby([\"County \", \"month\"]\n",
    "summer_closed_RC[\"\"] =pd.cut(summer_closed_RC[\"L/C Price\"], bins, labels = group_names)\n",
    "group_closed_RC_data = summer_closed_RC.groupby(['']).count().reset_index()\n",
    "summer_current_RC[''] =pd.cut(summer_current_RC['L/C Price'], bins, labels = group_names)\n",
    "group_current_RC_data = summer_current_RC.groupby(['']).count().reset_index()"
   ]
  },
  {
   "cell_type": "code",
   "execution_count": 91,
   "metadata": {},
   "outputs": [
    {
     "data": {
      "text/plain": [
       "Text(0, 0.5, 'L/C Prices')"
      ]
     },
     "execution_count": 91,
     "metadata": {},
     "output_type": "execute_result"
    },
    {
     "data": {
      "image/png": "[encoded data removed]",
      "text/plain": [
       "<Figure size 1440x432 with 1 Axes>"
      ]
     },
     "metadata": {
      "needs_background": "light"
     },
     "output_type": "display_data"
    }
   ],
   "source": [
    "#Bar Graph LA Closed Price\n",
    "\n",
    "figure(num=None, figsize=(20,6))\n",
    "group_names = [ \"<399,999\", \"400,000-799,999\", \"800,000-1,199,999\", \"1,200,000-1,599,999\", \"1,600,000-2000,000\"]\n",
    "bar_LA = group_closed_LA_data[\"L/C Price\"]\n",
    "x_axis = np.arange(len(bar_LA))\n",
    "plt.bar(x_axis, bar_LA, color=\"b\", align = \"center\")\n",
    "tick_locations = [value for value in x_axis]\n",
    "plt.xticks(tick_locations, group_names)\n",
    "plt.title(\"LA County Closing Price\")\n",
    "plt.xlabel(\"Bins\")\n",
    "plt.ylabel(\"L/C Prices\")"
   ]
  },
  {
   "cell_type": "code",
   "execution_count": 92,
   "metadata": {},
   "outputs": [
    {
     "data": {
      "text/plain": [
       "Text(0, 0.5, 'L/C Prices')"
      ]
     },
     "execution_count": 92,
     "metadata": {},
     "output_type": "execute_result"
    },
    {
     "data": {
      "image/png": "[encoded data removed]",
      "text/plain": [
       "<Figure size 1440x432 with 1 Axes>"
      ]
     },
     "metadata": {
      "needs_background": "light"
     },
     "output_type": "display_data"
    }
   ],
   "source": [
    "#Bar Graph LA Current Price\n",
    "\n",
    "figure(num=None, figsize=(20,6))\n",
    "group_names = [ \"<399,999\", \"400,000-799,999\", \"800,000-1,199,999\", \"1,200,000-1,599,999\", \"1,600,000-2000,000\"]\n",
    "bar_LA = group_current_LA_data[\"L/C Price\"]\n",
    "x_axis = np.arange(len(bar_LA))\n",
    "plt.bar(x_axis, bar_LA, color=\"b\", align = \"center\")\n",
    "tick_locations = [value for value in x_axis]\n",
    "plt.xticks(tick_locations, group_names)\n",
    "plt.title(\"LA County Closing Price\")\n",
    "plt.xlabel(\"Bins\")\n",
    "plt.ylabel(\"L/C Prices\")"
   ]
  },
  {
   "cell_type": "code",
   "execution_count": 93,
   "metadata": {},
   "outputs": [
    {
     "data": {
      "text/plain": [
       "Text(0, 0.5, 'L/C Prices')"
      ]
     },
     "execution_count": 93,
     "metadata": {},
     "output_type": "execute_result"
    },
    {
     "data": {
      "image/png": "[encoded data removed]",
      "text/plain": [
       "<Figure size 1440x432 with 1 Axes>"
      ]
     },
     "metadata": {
      "needs_background": "light"
     },
     "output_type": "display_data"
    }
   ],
   "source": [
    "#Bar Graph OC Closed Price\n",
    "\n",
    "figure(num=None, figsize=(20,6))\n",
    "group_names = [ \"<399,999\", \"400,000-799,999\", \"800,000-1,199,999\", \"1,200,000-1,599,999\", \"1,600,000-2000,000\"]\n",
    "bar_OC = group_closed_OC_data[\"L/C Price\"]\n",
    "x_axis = np.arange(len(bar_OC))\n",
    "plt.bar(x_axis, bar_OC, color=\"b\", align = \"center\")\n",
    "tick_locations = [value for value in x_axis]\n",
    "plt.xticks(tick_locations, group_names)\n",
    "plt.title(\"OC County Closing Price\")\n",
    "plt.xlabel(\"Bins\")\n",
    "plt.ylabel(\"L/C Prices\")"
   ]
  },
  {
   "cell_type": "code",
   "execution_count": 94,
   "metadata": {},
   "outputs": [
    {
     "data": {
      "text/plain": [
       "Text(0, 0.5, 'L/C Prices')"
      ]
     },
     "execution_count": 94,
     "metadata": {},
     "output_type": "execute_result"
    },
    {
     "data": {
      "image/png": "[encoded data removed]",
      "text/plain": [
       "<Figure size 1440x432 with 1 Axes>"
      ]
     },
     "metadata": {
      "needs_background": "light"
     },
     "output_type": "display_data"
    }
   ],
   "source": [
    "#Bar Graph OC Current Price\n",
    "\n",
    "figure(num=None, figsize=(20,6))\n",
    "group_names = [ \"<399,999\", \"400,000-799,999\", \"800,000-1,199,999\", \"1,200,000-1,599,999\", \"1,600,000-2000,000\"]\n",
    "bar_OC = group_current_OC_data[\"L/C Price\"]\n",
    "x_axis = np.arange(len(bar_OC))\n",
    "plt.bar(x_axis, bar_OC, color=\"b\", align = \"center\")\n",
    "tick_locations = [value for value in x_axis]\n",
    "plt.xticks(tick_locations, group_names)\n",
    "plt.title(\"OC County Closing Price\")\n",
    "plt.xlabel(\"Bins\")\n",
    "plt.ylabel(\"L/C Prices\")"
   ]
  },
  {
   "cell_type": "code",
   "execution_count": 95,
   "metadata": {},
   "outputs": [
    {
     "data": {
      "text/plain": [
       "Text(0, 0.5, 'L/C Prices')"
      ]
     },
     "execution_count": 95,
     "metadata": {},
     "output_type": "execute_result"
    },
    {
     "data": {
      "image/png": "[encoded data removed]",
      "text/plain": [
       "<Figure size 1440x432 with 1 Axes>"
      ]
     },
     "metadata": {
      "needs_background": "light"
     },
     "output_type": "display_data"
    }
   ],
   "source": [
    "#Bar Graph RC Closed Price\n",
    "\n",
    "figure(num=None, figsize=(20,6))\n",
    "group_names = [ \"<399,999\", \"400,000-799,999\", \"800,000-1,199,999\", \"1,200,000-1,599,999\", \"1,600,000-2000,000\"]\n",
    "bar_RC = group_closed_RC_data[\"L/C Price\"]\n",
    "x_axis = np.arange(len(bar_RC))\n",
    "plt.bar(x_axis, bar_RC, color=\"b\", align = \"center\")\n",
    "tick_locations = [value for value in x_axis]\n",
    "plt.xticks(tick_locations, group_names)\n",
    "plt.title(\"OC County Closing Price\")\n",
    "plt.xlabel(\"Bins\")\n",
    "plt.ylabel(\"L/C Prices\")"
   ]
  },
  {
   "cell_type": "code",
   "execution_count": 96,
   "metadata": {},
   "outputs": [
    {
     "ename": "AttributeError",
     "evalue": "'BarContainer' object has no attribute 'savefig'",
     "output_type": "error",
     "traceback": [
      "\u001b[0;31m---------------------------------------------------------------------------\u001b[0m",
      "\u001b[0;31mAttributeError\u001b[0m                            Traceback (most recent call last)",
      "\u001b[0;32m<ipython-input-96-b6d6522e99ee>\u001b[0m in \u001b[0;36m<module>\u001b[0;34m\u001b[0m\n\u001b[1;32m     12\u001b[0m \u001b[0mplt\u001b[0m\u001b[0;34m.\u001b[0m\u001b[0mylabel\u001b[0m\u001b[0;34m(\u001b[0m\u001b[0;34m\"L/C Prices\"\u001b[0m\u001b[0;34m)\u001b[0m\u001b[0;34m\u001b[0m\u001b[0;34m\u001b[0m\u001b[0m\n\u001b[1;32m     13\u001b[0m \u001b[0;34m\u001b[0m\u001b[0m\n\u001b[0;32m---> 14\u001b[0;31m \u001b[0mfig\u001b[0m\u001b[0;34m.\u001b[0m\u001b[0msavefig\u001b[0m\u001b[0;34m(\u001b[0m\u001b[0;34m'OC_closing_price.png'\u001b[0m\u001b[0;34m)\u001b[0m\u001b[0;34m\u001b[0m\u001b[0;34m\u001b[0m\u001b[0m\n\u001b[0m",
      "\u001b[0;31mAttributeError\u001b[0m: 'BarContainer' object has no attribute 'savefig'"
     ]
    },
    {
     "data": {
      "image/png": "[encoded data removed]",
      "text/plain": [
       "<Figure size 1440x432 with 1 Axes>"
      ]
     },
     "metadata": {
      "needs_background": "light"
     },
     "output_type": "display_data"
    }
   ],
   "source": [
    "#Bar Graph RC Closed Price\n",
    "\n",
    "figure(num=None, figsize=(20,6))\n",
    "group_names = [ \"<399,999\", \"400,000-799,999\", \"800,000-1,199,999\", \"1,200,000-1,599,999\", \"1,600,000-2000,000\"]\n",
    "bar_RC = group_current_RC_data[\"L/C Price\"]\n",
    "x_axis = np.arange(len(bar_RC))\n",
    "plt.bar(x_axis, bar_RC, color=\"b\", align = \"center\")\n",
    "tick_locations = [value for value in x_axis]\n",
    "plt.xticks(tick_locations, group_names)\n",
    "plt.title(\"OC County Closing Price\")\n",
    "plt.xlabel(\"Bins\")\n",
    "plt.ylabel(\"L/C Prices\")\n",
    "\n",
    "fig.savefig('OC_closing_price.png')"
   ]
  },
  {
   "cell_type": "code",
   "execution_count": null,
   "metadata": {},
   "outputs": [],
   "source": []
  },
  {
   "cell_type": "code",
   "execution_count": null,
   "metadata": {},
   "outputs": [],
   "source": []
  },
  {
   "cell_type": "code",
   "execution_count": null,
   "metadata": {},
   "outputs": [],
   "source": []
  },
  {
   "cell_type": "code",
   "execution_count": null,
   "metadata": {},
   "outputs": [],
   "source": []
  },
  {
   "cell_type": "code",
   "execution_count": null,
   "metadata": {},
   "outputs": [],
   "source": []
  }
 ],
 "metadata": {
  "kernelspec": {
   "display_name": "Python 3",
   "language": "python",
   "name": "python3"
  },
  "language_info": {
   "codemirror_mode": {
    "name": "ipython",
    "version": 3
   },
   "file_extension": ".py",
   "mimetype": "text/x-python",
   "name": "python",
   "nbconvert_exporter": "python",
   "pygments_lexer": "ipython3",
   "version": "3.7.3"
  }
 },
 "nbformat": 4,
 "nbformat_minor": 2
}
