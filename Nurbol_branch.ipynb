{
 "cells": [
  {
   "cell_type": "code",
   "execution_count": 1,
   "metadata": {},
   "outputs": [],
   "source": [
    "import pandas as pd\n",
    "import numpy as np\n",
    "import datetime as dt\n",
    "from scipy.stats import ttest_ind\n",
    "import matplotlib.pyplot as plt\n",
    "from matplotlib.pyplot import figure\n"
   ]
  },
  {
   "cell_type": "code",
   "execution_count": 2,
   "metadata": {},
   "outputs": [],
   "source": [
    "#how the California real estate market has been affected by the increase in interest rate. \n",
    "pd.set_option('display.max_columns', 30)"
   ]
  },
  {
   "cell_type": "code",
   "execution_count": 3,
   "metadata": {},
   "outputs": [],
   "source": [
    "# Closed Prices raw data\n",
    "ca_real_estate = pd.read_csv(\"Resources/California_Real_Estate_Raw_Data_Set.csv\")\n",
    "# Current Prices raw data\n",
    "current_prices = pd.read_csv(\"Resources/Current_prices.csv\")"
   ]
  },
  {
   "cell_type": "code",
   "execution_count": 4,
   "metadata": {},
   "outputs": [],
   "source": [
    "# Closed Prices \n",
    "ca_real_estate_df = ca_real_estate\n",
    "# Current Price\n",
    "current_market_df = current_prices"
   ]
  },
  {
   "cell_type": "code",
   "execution_count": 5,
   "metadata": {},
   "outputs": [],
   "source": [
    "# Closed Prices renaming column\n",
    "ca_real_estate_df.rename(columns = {\"Contract Status Change Date\": \"Date\"}, inplace = True)\n",
    "# Current Prices renaming column\n",
    "current_market_df.rename(columns = {\"Contract Status Change Date\": \"Date\"}, inplace = True)"
   ]
  },
  {
   "cell_type": "code",
   "execution_count": 6,
   "metadata": {},
   "outputs": [],
   "source": [
    "# Closed Prices: changed object to date time format\n",
    "ca_real_estate_df.Date = pd.to_datetime(ca_real_estate_df.Date, format = \"%m/%d/%y\")\n",
    "# Current Prices: change object to date time format\n",
    "current_market_df.Date = pd.to_datetime(current_market_df.Date, format = \"%m/%d/%y\")"
   ]
  },
  {
   "cell_type": "code",
   "execution_count": 7,
   "metadata": {},
   "outputs": [],
   "source": [
    "# Add column for just the month\n",
    "ca_real_estate_df[\"month\"] = ca_real_estate_df.Date.dt.month\n",
    "# add column for just the month \n",
    "current_market_df['month'] = current_market_df.Date.dt.month"
   ]
  },
  {
   "cell_type": "code",
   "execution_count": 8,
   "metadata": {},
   "outputs": [],
   "source": [
    "# add column for just the year \n",
    "ca_real_estate_df[\"Year\"] = ca_real_estate_df.Date.dt.year\n",
    "# add column for just the year \n",
    "current_market_df['Year'] = current_market_df.Date.dt.year"
   ]
  },
  {
   "cell_type": "code",
   "execution_count": 9,
   "metadata": {},
   "outputs": [],
   "source": [
    "# change format for the Price Per Square Foot Column\n",
    "ca_real_estate_df[['Price Per Square Foot']] = ca_real_estate_df[['Price Per Square Foot']].replace('[\\$,]','',regex=True).astype(float)\n",
    "# change format for the Price Per Square Foot Column\n",
    "current_market_df[['Price Per Square Foot']] = current_market_df[['Price Per Square Foot']].replace('[\\$,]','',regex=True).astype(float)"
   ]
  },
  {
   "cell_type": "code",
   "execution_count": 10,
   "metadata": {},
   "outputs": [],
   "source": [
    "# Change column to float from object \n",
    "ca_real_estate_df[['L/C Price']] = ca_real_estate_df[['L/C Price']].replace('[\\$,]','',regex=True).astype(float)\n",
    "# change column to float from object\n",
    "current_market_df[['L/C Price']] = current_market_df[['L/C Price']].replace('[\\$,]','',regex=True).astype(float)"
   ]
  },
  {
   "cell_type": "code",
   "execution_count": 11,
   "metadata": {},
   "outputs": [],
   "source": [
    "# Droped the ending of the Column \n",
    "ca_real_estate_df[[\"Sqft\"]] = ca_real_estate_df.Sqft.str.split('/', expand=True).drop([1], axis = 1)\n",
    "current_market_df[['Sqft']] = current_market_df.Sqft.str.split('/', expand=True).drop([1], axis = 1)\n"
   ]
  },
  {
   "cell_type": "code",
   "execution_count": 12,
   "metadata": {},
   "outputs": [],
   "source": [
    "ca_real_estate_df[[\"YrBuilt\"]] = ca_real_estate_df.YrBuilt.str.split('/', expand=True).drop([1], axis = 1)\n",
    "current_market_df[['YrBuilt']] = current_market_df.YrBuilt.str.split('/', expand=True).drop([1], axis = 1)"
   ]
  },
  {
   "cell_type": "code",
   "execution_count": 13,
   "metadata": {},
   "outputs": [],
   "source": [
    "ca_real_estate_df[[\"Bed & Bath\", \"A\", \"B\", \"C\"]] = ca_real_estate_df['Br/Ba'].str.split(\",\", expand = True)\n",
    "ca_real_estate_df[[\"Bed\", \"Bath\"]] = ca_real_estate_df[\"Bed & Bath\"].str.split(\"/\", expand = True)\n",
    "\n",
    "current_market_df[[\"Bed & Bath\", \"A\", \"B\", \"C\"]] = current_market_df['Br/Ba'].str.split(\",\", expand = True)\n",
    "current_market_df[[\"Bed\", \"Bath\"]] = current_market_df[\"Bed & Bath\"].str.split(\"/\", expand = True)\n",
    "#fix bathroom into a float\n"
   ]
  },
  {
   "cell_type": "code",
   "execution_count": 14,
   "metadata": {},
   "outputs": [],
   "source": [
    "ca_real_estate_df = ca_real_estate_df.drop(columns = ['Bed & Bath'])\n",
    "current_market_df = current_market_df.drop(columns = ['Bed & Bath'])\n"
   ]
  },
  {
   "cell_type": "code",
   "execution_count": 15,
   "metadata": {},
   "outputs": [],
   "source": [
    "ca_real_estate_df.rename(columns = {\"Sqft\": \"Sqft/A\"}, inplace = True)\n",
    "ca_real_estate_df[[\"LSqft\", \"Ac\"]] = ca_real_estate_df['LSqft/Ac'].str.split('/', expand = True).replace('[\\$,]','',regex=True).astype(float)\n",
    "\n",
    "current_market_df.rename(columns = {\"Sqft\": \"Sqft/A\"}, inplace = True)\n",
    "current_market_df[[\"LSqft\", \"Ac\"]] = current_market_df['LSqft/Ac'].str.split('/', expand = True).replace('[\\$,]','',regex=True).astype(float)"
   ]
  },
  {
   "cell_type": "code",
   "execution_count": 16,
   "metadata": {},
   "outputs": [],
   "source": [
    "# Closed Prices\n",
    "sales_data_month_df = ca_real_estate_df.loc[:,[\"Listing ID\", \"L/C Price\", \"month\", \"County \"]]\n",
    "# Current Listed Prices\n",
    "current_market = current_market_df.loc[:, [\"Listing ID\", \"L/C Price\", \"month\", \"County\"]]"
   ]
  },
  {
   "cell_type": "code",
   "execution_count": 17,
   "metadata": {},
   "outputs": [],
   "source": [
    "#Closed Prices\n",
    "July_df = sales_data_month_df[sales_data_month_df[\"month\"] == 7.]\n",
    "August_df = sales_data_month_df[sales_data_month_df[\"month\"] == 8.]\n",
    "Sept_df = sales_data_month_df[sales_data_month_df[\"month\"] == 9.]\n",
    "#Current Listed Prices\n",
    "current_July_df = current_market[current_market['month'] == 7.]\n",
    "current_August_df = current_market[current_market['month'] == 8.]\n",
    "current_September_df = current_market[current_market['month'] == 9.]"
   ]
  },
  {
   "cell_type": "code",
   "execution_count": 18,
   "metadata": {},
   "outputs": [
    {
     "data": {
      "text/plain": [
       "Ttest_indResult(statistic=18.562720974798353, pvalue=5.320017767949999e-76)"
      ]
     },
     "execution_count": 18,
     "metadata": {},
     "output_type": "execute_result"
    }
   ],
   "source": [
    "#Closed Prices\n",
    "ttest_ind(July_df['L/C Price'], Sept_df['L/C Price'])"
   ]
  },
  {
   "cell_type": "code",
   "execution_count": 33,
   "metadata": {},
   "outputs": [
    {
     "data": {
      "text/plain": [
       "Ttest_indResult(statistic=4.997865212120273, pvalue=6.003407022864367e-07)"
      ]
     },
     "execution_count": 33,
     "metadata": {},
     "output_type": "execute_result"
    }
   ],
   "source": [
    "#Current Listed Prices\n",
    "ttest_ind(current_July_df['L/C Price'], current_September_df['L/C Price'])"
   ]
  },
  {
   "cell_type": "code",
   "execution_count": null,
   "metadata": {},
   "outputs": [],
   "source": []
  },
  {
   "cell_type": "code",
   "execution_count": 20,
   "metadata": {},
   "outputs": [],
   "source": [
    "# Closed Prices\n",
    "orange_county = sales_data_month_df[sales_data_month_df['County '] == \"Orange\"]\n",
    "Riverside_county = sales_data_month_df[sales_data_month_df['County '] == \"Riverside\"]\n",
    "LA_county = sales_data_month_df[sales_data_month_df['County '] == \"Los Angeles\"]\n",
    "\n",
    "# Current Listed Prices\n",
    "current_oc = current_market[current_market['County']==\"Orange\"]\n",
    "current_la = current_market[current_market['County']==\"Los Angeles\"]\n",
    "current_riverside = current_market[current_market['County']==\"Riverside\"]"
   ]
  },
  {
   "cell_type": "code",
   "execution_count": 21,
   "metadata": {},
   "outputs": [
    {
     "data": {
      "text/html": [
       "<div>\n",
       "<style scoped>\n",
       "    .dataframe tbody tr th:only-of-type {\n",
       "        vertical-align: middle;\n",
       "    }\n",
       "\n",
       "    .dataframe tbody tr th {\n",
       "        vertical-align: top;\n",
       "    }\n",
       "\n",
       "    .dataframe thead th {\n",
       "        text-align: right;\n",
       "    }\n",
       "</style>\n",
       "<table border=\"1\" class=\"dataframe\">\n",
       "  <thead>\n",
       "    <tr style=\"text-align: right;\">\n",
       "      <th></th>\n",
       "      <th>Listing ID</th>\n",
       "      <th>L/C Price</th>\n",
       "      <th>month</th>\n",
       "      <th>County</th>\n",
       "    </tr>\n",
       "  </thead>\n",
       "  <tbody>\n",
       "    <tr>\n",
       "      <th>0</th>\n",
       "      <td>PW19179972</td>\n",
       "      <td>1070000.0</td>\n",
       "      <td>9.0</td>\n",
       "      <td>Orange</td>\n",
       "    </tr>\n",
       "    <tr>\n",
       "      <th>1</th>\n",
       "      <td>PW19150297</td>\n",
       "      <td>1299000.0</td>\n",
       "      <td>8.0</td>\n",
       "      <td>Orange</td>\n",
       "    </tr>\n",
       "    <tr>\n",
       "      <th>2</th>\n",
       "      <td>OC19161923</td>\n",
       "      <td>590000.0</td>\n",
       "      <td>8.0</td>\n",
       "      <td>Orange</td>\n",
       "    </tr>\n",
       "    <tr>\n",
       "      <th>3</th>\n",
       "      <td>OC19194337</td>\n",
       "      <td>679000.0</td>\n",
       "      <td>9.0</td>\n",
       "      <td>Orange</td>\n",
       "    </tr>\n",
       "    <tr>\n",
       "      <th>4</th>\n",
       "      <td>OC19155053</td>\n",
       "      <td>715000.0</td>\n",
       "      <td>8.0</td>\n",
       "      <td>Orange</td>\n",
       "    </tr>\n",
       "  </tbody>\n",
       "</table>\n",
       "</div>"
      ],
      "text/plain": [
       "   Listing ID  L/C Price  month County \n",
       "0  PW19179972  1070000.0    9.0  Orange\n",
       "1  PW19150297  1299000.0    8.0  Orange\n",
       "2  OC19161923   590000.0    8.0  Orange\n",
       "3  OC19194337   679000.0    9.0  Orange\n",
       "4  OC19155053   715000.0    8.0  Orange"
      ]
     },
     "execution_count": 21,
     "metadata": {},
     "output_type": "execute_result"
    }
   ],
   "source": [
    "orange_county.head()"
   ]
  },
  {
   "cell_type": "code",
   "execution_count": 22,
   "metadata": {},
   "outputs": [
    {
     "data": {
      "text/html": [
       "<div>\n",
       "<style scoped>\n",
       "    .dataframe tbody tr th:only-of-type {\n",
       "        vertical-align: middle;\n",
       "    }\n",
       "\n",
       "    .dataframe tbody tr th {\n",
       "        vertical-align: top;\n",
       "    }\n",
       "\n",
       "    .dataframe thead th {\n",
       "        text-align: right;\n",
       "    }\n",
       "</style>\n",
       "<table border=\"1\" class=\"dataframe\">\n",
       "  <thead>\n",
       "    <tr style=\"text-align: right;\">\n",
       "      <th></th>\n",
       "      <th></th>\n",
       "      <th>L/C Price</th>\n",
       "    </tr>\n",
       "    <tr>\n",
       "      <th>County</th>\n",
       "      <th>month</th>\n",
       "      <th></th>\n",
       "    </tr>\n",
       "  </thead>\n",
       "  <tbody>\n",
       "    <tr>\n",
       "      <th rowspan=\"5\" valign=\"top\">Orange</th>\n",
       "      <th>5.0</th>\n",
       "      <td>898127.404255</td>\n",
       "    </tr>\n",
       "    <tr>\n",
       "      <th>6.0</th>\n",
       "      <td>840646.203333</td>\n",
       "    </tr>\n",
       "    <tr>\n",
       "      <th>7.0</th>\n",
       "      <td>836414.490964</td>\n",
       "    </tr>\n",
       "    <tr>\n",
       "      <th>8.0</th>\n",
       "      <td>828147.472422</td>\n",
       "    </tr>\n",
       "    <tr>\n",
       "      <th>9.0</th>\n",
       "      <td>846740.221239</td>\n",
       "    </tr>\n",
       "  </tbody>\n",
       "</table>\n",
       "</div>"
      ],
      "text/plain": [
       "                   L/C Price\n",
       "County  month               \n",
       "Orange  5.0    898127.404255\n",
       "        6.0    840646.203333\n",
       "        7.0    836414.490964\n",
       "        8.0    828147.472422\n",
       "        9.0    846740.221239"
      ]
     },
     "execution_count": 22,
     "metadata": {},
     "output_type": "execute_result"
    }
   ],
   "source": [
    "orange_closed_average = orange_county.groupby(['County ', 'month']).mean()\n",
    "la_closed_average = LA_county.groupby(['County ', 'month']).mean()\n",
    "riverside_closed_average = Riverside_county.groupby(['County ', 'month']).mean()\n",
    "orange_closed_average"
   ]
  },
  {
   "cell_type": "code",
   "execution_count": 23,
   "metadata": {},
   "outputs": [],
   "source": [
    "# Closed Prices\n",
    "LA_July = LA_county[LA_county['month'] == 7.]\n",
    "LA_August = LA_county[LA_county['month'] == 8.]\n",
    "LA_September = LA_county[LA_county['month'] == 9.]\n",
    "\n",
    "# Closed Prices Merged DataFrame LA County\n",
    "summer_closed_LA = LA_July.append(LA_August, ignore_index = True)\n",
    "summer_closed_LA = summer_closed_LA.append(LA_September, ignore_index = True)\n",
    "\n",
    "# Current Listed Prices\n",
    "currentLA_July = current_la[current_la['month']==7.]\n",
    "currentLA_August = current_la[current_la['month']==8.]\n",
    "currentLA_Sept = current_la[current_la['month']==9.]\n",
    "\n",
    "# Current Listed Merged DataFrame LA County\n",
    "summer_current_LA = currentLA_July.append(currentLA_August, ignore_index = True)\n",
    "summer_current_LA = summer_current_LA.append(currentLA_Sept, ignore_index = True)"
   ]
  },
  {
   "cell_type": "code",
   "execution_count": 24,
   "metadata": {},
   "outputs": [],
   "source": [
    "# Closed Prices\n",
    "Orange_July = orange_county[orange_county['month'] == 7.]\n",
    "Orange_August = orange_county[orange_county['month'] == 8.]\n",
    "Orange_September = orange_county[orange_county['month'] == 9.]\n",
    "\n",
    "# Closed Prices Merged DataFrame Orange County\n",
    "summer_closed_OC = Orange_July.append(Orange_August, ignore_index = True)\n",
    "summer_closed_OC = summer_closed_OC.append(Orange_September, ignore_index = True)\n",
    "\n",
    "# Current Listed Prices\n",
    "currentOC_July = current_oc[current_oc['month']== 7.]\n",
    "currentOC_August = current_oc[current_oc['month']== 8.]\n",
    "currentOC_Sept = current_oc[current_oc['month']== 9.]\n",
    "\n",
    "# Current Listed Merged DataFrame Orange County\n",
    "summer_current_OC = currentOC_July.append(currentOC_August, ignore_index = True)\n",
    "summer_current_OC = summer_current_OC.append(currentOC_Sept, ignore_index = True)\n"
   ]
  },
  {
   "cell_type": "code",
   "execution_count": null,
   "metadata": {},
   "outputs": [],
   "source": []
  },
  {
   "cell_type": "code",
   "execution_count": 25,
   "metadata": {},
   "outputs": [],
   "source": [
    "# Closed Prices\n",
    "Riverside_county_July = Riverside_county[Riverside_county['month'] == 7.]\n",
    "Riverside_county_August = Riverside_county[Riverside_county['month'] == 8.]\n",
    "Riverside_county_September = Riverside_county[Riverside_county['month'] == 9.]\n",
    "\n",
    "# Closed Prices Merged DataFrame Riverside County\n",
    "summer_closed_RC = Riverside_county_July.append(Riverside_county_August, ignore_index = True)\n",
    "summer_closed_RC = summer_closed_RC.append(Riverside_county_September, ignore_index = True)\n",
    "\n",
    "\n",
    "# Current Listed Prices\n",
    "current_riverside_July = current_riverside[current_riverside['month']==7.]\n",
    "current_riverside_August = current_riverside[current_riverside['month']==8.]\n",
    "current_riverside_September = current_riverside[current_riverside['month']==9.]\n",
    "\n",
    "# Current Listed Merged DataFrame Riverside County\n",
    "summer_current_RC = current_riverside_July.append(current_riverside_August, ignore_index = True)\n",
    "summer_current_RC = summer_current_RC.append(current_riverside_September, ignore_index = True)\n"
   ]
  },
  {
   "cell_type": "code",
   "execution_count": 26,
   "metadata": {},
   "outputs": [
    {
     "data": {
      "text/html": [
       "<div>\n",
       "<style scoped>\n",
       "    .dataframe tbody tr th:only-of-type {\n",
       "        vertical-align: middle;\n",
       "    }\n",
       "\n",
       "    .dataframe tbody tr th {\n",
       "        vertical-align: top;\n",
       "    }\n",
       "\n",
       "    .dataframe thead th {\n",
       "        text-align: right;\n",
       "    }\n",
       "</style>\n",
       "<table border=\"1\" class=\"dataframe\">\n",
       "  <thead>\n",
       "    <tr style=\"text-align: right;\">\n",
       "      <th></th>\n",
       "      <th>Listing ID</th>\n",
       "      <th>L/C Price</th>\n",
       "      <th>month</th>\n",
       "      <th>County</th>\n",
       "    </tr>\n",
       "  </thead>\n",
       "  <tbody>\n",
       "    <tr>\n",
       "      <th>9639</th>\n",
       "      <td>EV19204795</td>\n",
       "      <td>234900.0</td>\n",
       "      <td>8.0</td>\n",
       "      <td>Riverside</td>\n",
       "    </tr>\n",
       "    <tr>\n",
       "      <th>9641</th>\n",
       "      <td>SW19206422</td>\n",
       "      <td>329500.0</td>\n",
       "      <td>8.0</td>\n",
       "      <td>Riverside</td>\n",
       "    </tr>\n",
       "    <tr>\n",
       "      <th>9648</th>\n",
       "      <td>DW19204094</td>\n",
       "      <td>400000.0</td>\n",
       "      <td>8.0</td>\n",
       "      <td>Riverside</td>\n",
       "    </tr>\n",
       "    <tr>\n",
       "      <th>9659</th>\n",
       "      <td>PW19204937</td>\n",
       "      <td>455000.0</td>\n",
       "      <td>8.0</td>\n",
       "      <td>Riverside</td>\n",
       "    </tr>\n",
       "    <tr>\n",
       "      <th>9697</th>\n",
       "      <td>SW19219369</td>\n",
       "      <td>539909.0</td>\n",
       "      <td>8.0</td>\n",
       "      <td>Riverside</td>\n",
       "    </tr>\n",
       "  </tbody>\n",
       "</table>\n",
       "</div>"
      ],
      "text/plain": [
       "      Listing ID  L/C Price  month    County \n",
       "9639  EV19204795   234900.0    8.0  Riverside\n",
       "9641  SW19206422   329500.0    8.0  Riverside\n",
       "9648  DW19204094   400000.0    8.0  Riverside\n",
       "9659  PW19204937   455000.0    8.0  Riverside\n",
       "9697  SW19219369   539909.0    8.0  Riverside"
      ]
     },
     "execution_count": 26,
     "metadata": {},
     "output_type": "execute_result"
    }
   ],
   "source": [
    "Riverside_county_August.head()"
   ]
  },
  {
   "cell_type": "code",
   "execution_count": 27,
   "metadata": {},
   "outputs": [
    {
     "data": {
      "text/plain": [
       "Ttest_indResult(statistic=2.003852052335435, pvalue=0.045238315410216105)"
      ]
     },
     "execution_count": 27,
     "metadata": {},
     "output_type": "execute_result"
    }
   ],
   "source": [
    "ttest_ind(Riverside_county_July['L/C Price'], Riverside_county_August['L/C Price'])"
   ]
  },
  {
   "cell_type": "code",
   "execution_count": 28,
   "metadata": {},
   "outputs": [
    {
     "data": {
      "text/plain": [
       "Ttest_indResult(statistic=0.30246401472707696, pvalue=0.7623122543211315)"
      ]
     },
     "execution_count": 28,
     "metadata": {},
     "output_type": "execute_result"
    }
   ],
   "source": [
    "ttest_ind(Riverside_county_August['L/C Price'], Riverside_county_September['L/C Price'])"
   ]
  },
  {
   "cell_type": "code",
   "execution_count": 29,
   "metadata": {},
   "outputs": [
    {
     "data": {
      "text/plain": [
       "Ttest_indResult(statistic=2.5243677460803093, pvalue=0.011634465377513578)"
      ]
     },
     "execution_count": 29,
     "metadata": {},
     "output_type": "execute_result"
    }
   ],
   "source": [
    "ttest_ind(Riverside_county_July['L/C Price'], Riverside_county_September['L/C Price'])"
   ]
  },
  {
   "cell_type": "code",
   "execution_count": 30,
   "metadata": {},
   "outputs": [],
   "source": [
    "# Interest Rate Data\n",
    "\n",
    "interest_rates = {'Date': ['January 2019', 'February 2019', 'March 2019', 'April 2019', 'May 2019','June 2019','July 2019', 'Augutst 2019', 'September 2019'], \n",
    "                 'Level(%)': [2.25,2.25,2.25,2.25,2.25,2.25,2.25, 2.00, 1.75]}"
   ]
  },
  {
   "cell_type": "code",
   "execution_count": 31,
   "metadata": {},
   "outputs": [],
   "source": [
    "# Interest Rate DataFrame\n",
    "interest_rates_df = pd.DataFrame(interest_rates)"
   ]
  },
  {
   "cell_type": "code",
   "execution_count": 32,
   "metadata": {},
   "outputs": [
    {
     "data": {
      "image/png": "[encoded data removed]",
      "text/plain": [
       "<Figure size 1440x432 with 1 Axes>"
      ]
     },
     "metadata": {
      "needs_background": "light"
     },
     "output_type": "display_data"
    }
   ],
   "source": [
    "# Interest Rate Graph 2019\n",
    "figure(num=None, figsize=(20,6))\n",
    "plt.plot(interest_rates_df['Date'], interest_rates_df['Level(%)'], color = \"red\")\n",
    "plt.title(\"Interest Rates\")\n",
    "plt.xlabel(\"Months\")\n",
    "plt.ylabel(\"Level(%)\")\n",
    "plt.grid()"
   ]
  },
  {
   "cell_type": "code",
   "execution_count": null,
   "metadata": {},
   "outputs": [],
   "source": []
  },
  {
   "cell_type": "code",
   "execution_count": null,
   "metadata": {},
   "outputs": [],
   "source": []
  },
  {
   "cell_type": "code",
   "execution_count": null,
   "metadata": {},
   "outputs": [],
   "source": []
  },
  {
   "cell_type": "code",
   "execution_count": null,
   "metadata": {},
   "outputs": [],
   "source": []
  },
  {
   "cell_type": "code",
   "execution_count": null,
   "metadata": {},
   "outputs": [],
   "source": []
  }
 ],
 "metadata": {
  "kernelspec": {
   "display_name": "Python 3",
   "language": "python",
   "name": "python3"
  },
  "language_info": {
   "codemirror_mode": {
    "name": "ipython",
    "version": 3
   },
   "file_extension": ".py",
   "mimetype": "text/x-python",
   "name": "python",
   "nbconvert_exporter": "python",
   "pygments_lexer": "ipython3",
   "version": "3.7.3"
  }
 },
 "nbformat": 4,
 "nbformat_minor": 2
}
