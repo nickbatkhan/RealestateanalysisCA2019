{
 "cells": [
  {
   "cell_type": "code",
   "execution_count": 1,
   "metadata": {},
   "outputs": [],
   "source": [
    "import pandas as pd\n",
    "import numpy as np\n",
    "import datetime as dt\n",
    "from scipy.stats import ttest_ind\n",
    "import matplotlib\n"
   ]
  },
  {
   "cell_type": "code",
   "execution_count": 2,
   "metadata": {},
   "outputs": [],
   "source": [
    "#how the California real estate market has been affected by the increase in interest rate. \n",
    "pd.set_option('display.max_columns', 30)"
   ]
  },
  {
   "cell_type": "code",
   "execution_count": 3,
   "metadata": {},
   "outputs": [],
   "source": [
    "ca_real_estate = pd.read_csv(\"Resources/California_Real_Estate_Raw_Data_Set.csv\")\n",
    "current_prices = pd.read_csv(\"Resources/Current_prices.csv\")"
   ]
  },
  {
   "cell_type": "code",
   "execution_count": 4,
   "metadata": {},
   "outputs": [],
   "source": [
    "ca_real_estate_df = ca_real_estate\n",
    "current_market_df = current_prices"
   ]
  },
  {
   "cell_type": "code",
   "execution_count": 5,
   "metadata": {},
   "outputs": [],
   "source": [
    "ca_real_estate_df.rename(columns = {\"Contract Status Change Date\": \"Date\"}, inplace = True)\n",
    "current_market_df.rename(columns = {\"Contract Status Change Date\": \"Date\"}, inplace = True)"
   ]
  },
  {
   "cell_type": "code",
   "execution_count": 6,
   "metadata": {},
   "outputs": [],
   "source": [
    "ca_real_estate_df.Date = pd.to_datetime(ca_real_estate_df.Date, format = \"%m/%d/%y\")\n",
    "current_market_df.Date = pd.to_datetime(current_market_df.Date, format = \"%m/%d/%y\")"
   ]
  },
  {
   "cell_type": "code",
   "execution_count": 7,
   "metadata": {},
   "outputs": [],
   "source": [
    "ca_real_estate_df[\"month\"] = ca_real_estate_df.Date.dt.month\n",
    "current_market_df['month'] = current_market_df.Date.dt.month"
   ]
  },
  {
   "cell_type": "code",
   "execution_count": 8,
   "metadata": {},
   "outputs": [],
   "source": [
    "ca_real_estate_df[\"Year\"] = ca_real_estate_df.Date.dt.year\n",
    "current_market_df['Year'] = current_market_df.Date.dt.year"
   ]
  },
  {
   "cell_type": "code",
   "execution_count": 9,
   "metadata": {},
   "outputs": [],
   "source": [
    "ca_real_estate_df[['Price Per Square Foot']] = ca_real_estate_df[['Price Per Square Foot']].replace('[\\$,]','',regex=True).astype(float)\n",
    "current_market_df[['Price Per Square Foot']] = current_market_df[['Price Per Square Foot']].replace('[\\$,]','',regex=True).astype(float)"
   ]
  },
  {
   "cell_type": "code",
   "execution_count": 10,
   "metadata": {},
   "outputs": [],
   "source": [
    "ca_real_estate_df[['L/C Price']] = ca_real_estate_df[['L/C Price']].replace('[\\$,]','',regex=True).astype(float)\n",
    "current_market_df[['L/C Price']] = current_market_df[['L/C Price']].replace('[\\$,]','',regex=True).astype(float)"
   ]
  },
  {
   "cell_type": "code",
   "execution_count": 11,
   "metadata": {},
   "outputs": [],
   "source": [
    "ca_real_estate_df[[\"Sqft\"]] = ca_real_estate_df.Sqft.str.split('/', expand=True).drop([1], axis = 1)\n",
    "current_market_df[['Sqft']] = current_market_df.Sqft.str.split('/', expand=True).drop([1], axis = 1)"
   ]
  },
  {
   "cell_type": "code",
   "execution_count": 12,
   "metadata": {},
   "outputs": [],
   "source": [
    "ca_real_estate_df[[\"YrBuilt\"]] = ca_real_estate_df.YrBuilt.str.split('/', expand=True).drop([1], axis = 1)\n",
    "current_market_df[['YrBuilt']] = current_market_df.YrBuilt.str.split('/', expand=True).drop([1], axis = 1)"
   ]
  },
  {
   "cell_type": "code",
   "execution_count": 13,
   "metadata": {},
   "outputs": [],
   "source": [
    "ca_real_estate_df[[\"Bed & Bath\", \"A\", \"B\", \"C\"]] = ca_real_estate_df['Br/Ba'].str.split(\",\", expand = True)\n",
    "ca_real_estate_df[[\"Bed\", \"Bath\"]] = ca_real_estate_df[\"Bed & Bath\"].str.split(\"/\", expand = True)\n",
    "\n",
    "current_market_df[[\"Bed & Bath\", \"A\", \"B\", \"C\"]] = current_market_df['Br/Ba'].str.split(\",\", expand = True)\n",
    "current_market_df[[\"Bed\", \"Bath\"]] = current_market_df[\"Bed & Bath\"].str.split(\"/\", expand = True)\n",
    "#fix bathroom into a float\n"
   ]
  },
  {
   "cell_type": "code",
   "execution_count": 14,
   "metadata": {},
   "outputs": [],
   "source": [
    "ca_real_estate_df = ca_real_estate_df.drop(columns = ['Bed & Bath'])\n",
    "current_market_df = current_market_df.drop(columns = ['Bed & Bath'])\n"
   ]
  },
  {
   "cell_type": "code",
   "execution_count": 15,
   "metadata": {},
   "outputs": [],
   "source": [
    "ca_real_estate_df.rename(columns = {\"Sqft\": \"Sqft/A\"}, inplace = True)\n",
    "ca_real_estate_df[[\"LSqft\", \"Ac\"]] = ca_real_estate_df['LSqft/Ac'].str.split('/', expand = True).replace('[\\$,]','',regex=True).astype(float)\n",
    "\n",
    "current_market_df.rename(columns = {\"Sqft\": \"Sqft/A\"}, inplace = True)\n",
    "current_market_df[[\"LSqft\", \"Ac\"]] = current_market_df['LSqft/Ac'].str.split('/', expand = True).replace('[\\$,]','',regex=True).astype(float)"
   ]
  },
  {
   "cell_type": "code",
   "execution_count": 16,
   "metadata": {},
   "outputs": [],
   "source": [
    "# Closed Prices\n",
    "sales_data_month_df = ca_real_estate_df.loc[:,[\"Listing ID\", \"L/C Price\", \"month\", \"County \"]]\n",
    "# Current Listed Prices\n",
    "current_market = current_market_df.loc[:, [\"Listing ID\", \"L/C Price\", \"month\", \"County\"]]"
   ]
  },
  {
   "cell_type": "code",
   "execution_count": 17,
   "metadata": {},
   "outputs": [],
   "source": [
    "#Closed Prices\n",
    "July_df = sales_data_month_df[sales_data_month_df[\"month\"] == 7.]\n",
    "August_df = sales_data_month_df[sales_data_month_df[\"month\"] == 8.]\n",
    "Sept_df = sales_data_month_df[sales_data_month_df[\"month\"] == 9.]\n",
    "#Current Listed Prices\n",
    "current_July_df = current_market[current_market['month'] == 7.]\n",
    "current_August_df = current_market[current_market['month'] == 8.]\n",
    "current_September_df = current_market[current_market['month'] == 9.]"
   ]
  },
  {
   "cell_type": "code",
   "execution_count": 18,
   "metadata": {},
   "outputs": [
    {
     "data": {
      "text/plain": [
       "Ttest_indResult(statistic=18.562720974798353, pvalue=5.320017767949999e-76)"
      ]
     },
     "execution_count": 18,
     "metadata": {},
     "output_type": "execute_result"
    }
   ],
   "source": [
    "#Closed Prices\n",
    "ttest_ind(July_df['L/C Price'], Sept_df['L/C Price'])"
   ]
  },
  {
   "cell_type": "code",
   "execution_count": 19,
   "metadata": {},
   "outputs": [
    {
     "data": {
      "text/plain": [
       "Ttest_indResult(statistic=4.997865212120273, pvalue=6.003407022864367e-07)"
      ]
     },
     "execution_count": 19,
     "metadata": {},
     "output_type": "execute_result"
    }
   ],
   "source": [
    "#Current Listed Prices\n",
    "ttest_ind(current_July_df['L/C Price'], current_September_df['L/C Price'])"
   ]
  },
  {
   "cell_type": "code",
   "execution_count": null,
   "metadata": {},
   "outputs": [],
   "source": []
  },
  {
   "cell_type": "code",
   "execution_count": 23,
   "metadata": {},
   "outputs": [],
   "source": [
    "# Closed Prices\n",
    "orange_county = sales_data_month_df[sales_data_month_df['County '] == \"Orange\"]\n",
    "Riverside_county = sales_data_month_df[sales_data_month_df['County '] == \"Riverside\"]\n",
    "LA_county = sales_data_month_df[sales_data_month_df['County '] == \"Los Angeles\"]\n",
    "\n",
    "# Current Listed Prices\n",
    "current_oc = current_market[current_market['County']==\"Orange\"]\n",
    "current_la = current_market[current_market['County']==\"Los Angeles\"]\n",
    "current_riverside = current_market[current_market['County']==\"Riverside\"]"
   ]
  },
  {
   "cell_type": "code",
   "execution_count": 25,
   "metadata": {},
   "outputs": [],
   "source": [
    "# Closed Prices\n",
    "LA_July = LA_county[LA_county['month'] == 7.]\n",
    "LA_August = LA_county[LA_county['month'] == 8.]\n",
    "LA_September = LA_county[LA_county['month'] == 9.]\n",
    "\n",
    "# Current Listed Prices\n",
    "currentLA_July = current_la[current_la['month']==7.]\n",
    "currentLA_August = current_la[current_la['month']==8.]\n",
    "currentLA_Sept = current_la[current_la['month']==9.]"
   ]
  },
  {
   "cell_type": "code",
   "execution_count": 28,
   "metadata": {},
   "outputs": [],
   "source": [
    "# Closed Prices\n",
    "Orange_July = orange_county[orange_county['month'] == 7.]\n",
    "Orange_August = orange_county[orange_county['month'] == 8.]\n",
    "Orange_September = orange_county[orange_county['month'] == 9.]\n",
    "\n",
    "# Current Listed Prices\n",
    "currentOC_July = current_oc[current_oc['month']== 7.]\n",
    "currentOC_August = current_oc[current_oc['month']== 8.]\n",
    "currentOC_Sept = current_oc[current_oc['month']== 9.]"
   ]
  },
  {
   "cell_type": "code",
   "execution_count": 30,
   "metadata": {},
   "outputs": [],
   "source": [
    "# Closed Prices\n",
    "Riverside_county_July = Riverside_county[Riverside_county['month'] == 7.]\n",
    "Riverside_county_August = Riverside_county[Riverside_county['month'] == 8.]\n",
    "Riverside_county_September = Riverside_county[Riverside_county['month'] == 9.]\n",
    "\n",
    "# Current Listed Prices\n",
    "current_riverside_July = current_riverside[current_riverside['month']==7.]\n",
    "current_riverside_August = current_riverside[current_riverside['month']==8.]\n",
    "current_riverside_September = current_riverside[current_riverside['month']==9.]"
   ]
  },
  {
   "cell_type": "code",
   "execution_count": null,
   "metadata": {},
   "outputs": [],
   "source": [
    "Riverside_county_August.head()"
   ]
  },
  {
   "cell_type": "code",
   "execution_count": null,
   "metadata": {},
   "outputs": [],
   "source": [
    " ttest_ind(Riverside_county_July['L/C Price'], Riverside_county_August['L/C Price'])"
   ]
  },
  {
   "cell_type": "code",
   "execution_count": null,
   "metadata": {},
   "outputs": [],
   "source": [
    "ttest_ind(Riverside_county_August['L/C Price'], Riverside_county_September['L/C Price'])"
   ]
  },
  {
   "cell_type": "code",
   "execution_count": null,
   "metadata": {},
   "outputs": [],
   "source": [
    "ttest_ind(Riverside_county_July['L/C Price'], Riverside_county_September['L/C Price'])"
   ]
  },
  {
   "cell_type": "code",
   "execution_count": null,
   "metadata": {},
   "outputs": [],
   "source": []
  }
 ],
 "metadata": {
  "kernelspec": {
   "display_name": "Python 3",
   "language": "python",
   "name": "python3"
  },
  "language_info": {
   "codemirror_mode": {
    "name": "ipython",
    "version": 3
   },
   "file_extension": ".py",
   "mimetype": "text/x-python",
   "name": "python",
   "nbconvert_exporter": "python",
   "pygments_lexer": "ipython3",
   "version": "3.7.3"
  }
 },
 "nbformat": 4,
 "nbformat_minor": 2
}
