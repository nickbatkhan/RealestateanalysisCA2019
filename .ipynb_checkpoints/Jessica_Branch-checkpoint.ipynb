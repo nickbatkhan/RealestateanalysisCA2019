{
 "cells": [
  {
   "cell_type": "markdown",
   "metadata": {},
   "source": [
    "Hypothesis: Determine how the California real estate market has been affected by the national interest rate\n",
    "\n",
    "- L/C Price - needs to get converted to integer\n",
    "- Contract Status Change Date - needs to be converted to date / time\n",
    "- Convert LSqft/Ac\t- convert to integer\n",
    "- Seperate Bed/Bath by commas\n",
    "- \n",
    "\n",
    "    "
   ]
  },
  {
   "cell_type": "markdown",
   "metadata": {},
   "source": [
    "import pandas as pd\n",
    "import numpy as np\n",
    "pd.read_csv(\"Resources/\")\n",
    "real_estate_pd = pd.read_csv(\"Resources/California_Real_Estate_Raw_Data_Set.csv\")\n",
    "real_estate_pd.head()\n",
    "real_estate_pd.columns\n",
    "real_estate_pd['County '].astype(str).astype(int)\n",
    "CA_real_estate_df = real_estate_pd\n",
    "CA_real_estate_df\n",
    "CA_real_estate_df = int(CA_real_estate_df)\n",
    "\n",
    "## To do:\n",
    "Interest Rates per month\n",
    "Hypothesis testing\n",
    "Analyze the data showing the "
   ]
  },
  {
   "cell_type": "markdown",
   "metadata": {},
   "source": [
    "# import pandas as pd\n",
    "# import numpy as np\n",
    "# import datetime as dt\n",
    "# real_estate_pd = pd.read_csv(\"Resources/California_Real_Estate_Raw_Data_Set.csv\")\n",
    "# real_estate_pd.head()\n",
    "# real_estate_pd.columns\n",
    "# real_estate_pd['County '].astype(str).astype(int)\n",
    "# ca_real_estate = real_estate_pd[[\"Listing ID\",\"City\",\"L/C Price\",\"County\"]]\n",
    "# ca_real_estate.head()\n",
    "# CA_real_estate_df = real_estate_pd\n",
    "# CA_real_estate_df\n",
    "# CA_real_estate_df = int(CA_real_estate_df)"
   ]
  },
  {
   "cell_type": "code",
   "execution_count": 1,
   "metadata": {},
   "outputs": [],
   "source": [
    "import pandas as pd\n",
    "import numpy as np\n",
    "import datetime as dt"
   ]
  },
  {
   "cell_type": "code",
   "execution_count": 2,
   "metadata": {},
   "outputs": [],
   "source": [
    "pd.set_option('display.max_columns', 30)"
   ]
  },
  {
   "cell_type": "code",
   "execution_count": 3,
   "metadata": {},
   "outputs": [],
   "source": [
    "ca_real_estate = pd.read_csv(\"Resources/California_Real_Estate_Raw_Data_Set.csv\")"
   ]
  },
  {
   "cell_type": "code",
   "execution_count": 4,
   "metadata": {},
   "outputs": [],
   "source": [
    "ca_real_estate_df = ca_real_estate"
   ]
  },
  {
   "cell_type": "code",
   "execution_count": 5,
   "metadata": {},
   "outputs": [],
   "source": [
    "ca_real_estate_df.rename(columns = {\"Contract Status Change Date\": \"Date\"}, inplace = True)"
   ]
  },
  {
   "cell_type": "code",
   "execution_count": 6,
   "metadata": {},
   "outputs": [],
   "source": [
    "ca_real_estate_df.Date = pd.to_datetime(ca_real_estate_df.Date, format = \"%m/%d/%y\")"
   ]
  },
  {
   "cell_type": "code",
   "execution_count": 7,
   "metadata": {},
   "outputs": [],
   "source": [
    "ca_real_estate_df[\"month\"] = ca_real_estate_df.Date.dt.month"
   ]
  },
  {
   "cell_type": "code",
   "execution_count": 8,
   "metadata": {},
   "outputs": [],
   "source": [
    "ca_real_estate_df[['Price Per Square Foot']] = ca_real_estate_df[['Price Per Square Foot']].replace('[\\$,]','',regex=True).astype(float)"
   ]
  },
  {
   "cell_type": "code",
   "execution_count": 9,
   "metadata": {},
   "outputs": [
    {
     "data": {
      "text/plain": [
       "Index(['Unnamed: 0', 'Listing ID', 'S', 'Sub Type', 'St#', 'St Name', 'City',\n",
       "       'MLS Area', 'SLC', 'L/C Price', 'Price Per Square Foot', 'Br/Ba',\n",
       "       'Sqft', 'YrBuilt', 'LSqft/Ac', 'DOM/CDOM', 'View YN', 'Pool Private YN',\n",
       "       'BAC', 'Date', 'MLS', 'County ', 'month'],\n",
       "      dtype='object')"
      ]
     },
     "execution_count": 9,
     "metadata": {},
     "output_type": "execute_result"
    }
   ],
   "source": [
    "ca_real_estate_df.columns"
   ]
  },
  {
   "cell_type": "code",
   "execution_count": 10,
   "metadata": {},
   "outputs": [],
   "source": [
    "ca_real_estate_df[['L/C Price']] = ca_real_estate_df[['L/C Price']].replace('[\\$,]','',regex=True).astype(float)"
   ]
  },
  {
   "cell_type": "code",
   "execution_count": 11,
   "metadata": {},
   "outputs": [],
   "source": [
    "ca_real_estate_df[[\"Sqft\"]] = ca_real_estate_df.Sqft.str.split('/', expand=True).drop([1], axis = 1)"
   ]
  },
  {
   "cell_type": "code",
   "execution_count": 12,
   "metadata": {},
   "outputs": [],
   "source": [
    "ca_real_estate_df[[\"YrBuilt\"]] = ca_real_estate_df.YrBuilt.str.split('/', expand=True).drop([1], axis = 1)"
   ]
  },
  {
   "cell_type": "code",
   "execution_count": 13,
   "metadata": {},
   "outputs": [],
   "source": [
    "ca_real_estate_df[[\"Bed & Bath\", \"A\", \"B\", \"C\"]] = ca_real_estate_df['Br/Ba'].str.split(\",\", expand = True)\n",
    "ca_real_estate_df[[\"Bed\", \"Bath\"]] = ca_real_estate_df[\"Bed & Bath\"].str.split(\"/\", expand = True)"
   ]
  },
  {
   "cell_type": "code",
   "execution_count": 14,
   "metadata": {},
   "outputs": [],
   "source": [
    "ca_real_estate_df =ca_real_estate_df.drop(columns = ['Bed & Bath'])"
   ]
  },
  {
   "cell_type": "code",
   "execution_count": 15,
   "metadata": {},
   "outputs": [],
   "source": [
    "ca_real_estate_df.rename(columns = {\"Sqft\": \"Sqft/A\"}, inplace = True)\n",
    "ca_real_estate_df[[\"LSqft\", \"Ac\"]] = ca_real_estate_df['LSqft/Ac'].str.split('/', expand = True).replace('[\\$,]','',regex=True).astype(float)\n"
   ]
  },
  {
   "cell_type": "code",
   "execution_count": 16,
   "metadata": {},
   "outputs": [
    {
     "name": "stdout",
     "output_type": "stream",
     "text": [
      "<class 'pandas.core.frame.DataFrame'>\n",
      "RangeIndex: 22109 entries, 0 to 22108\n",
      "Data columns (total 30 columns):\n",
      "Unnamed: 0               22109 non-null int64\n",
      "Listing ID               22109 non-null object\n",
      "S                        22109 non-null object\n",
      "Sub Type                 22109 non-null object\n",
      "St#                      22109 non-null object\n",
      "St Name                  22109 non-null object\n",
      "City                     22109 non-null object\n",
      "MLS Area                 20771 non-null object\n",
      "SLC                      22108 non-null object\n",
      "L/C Price                22109 non-null float64\n",
      "Price Per Square Foot    22108 non-null float64\n",
      "Br/Ba                    22109 non-null object\n",
      "Sqft/A                   22109 non-null object\n",
      "YrBuilt                  22109 non-null object\n",
      "LSqft/Ac                 22108 non-null object\n",
      "DOM/CDOM                 22109 non-null object\n",
      "View YN                  22054 non-null object\n",
      "Pool Private YN          22102 non-null object\n",
      "BAC                      22109 non-null object\n",
      "Date                     22108 non-null datetime64[ns]\n",
      "MLS                      22109 non-null object\n",
      "County                   22109 non-null object\n",
      "month                    22108 non-null float64\n",
      "A                        22109 non-null object\n",
      "B                        22109 non-null object\n",
      "C                        22109 non-null object\n",
      "Bed                      22109 non-null object\n",
      "Bath                     22109 non-null object\n",
      "LSqft                    22108 non-null float64\n",
      "Ac                       22108 non-null float64\n",
      "dtypes: datetime64[ns](1), float64(5), int64(1), object(23)\n",
      "memory usage: 5.1+ MB\n"
     ]
    }
   ],
   "source": [
    "ca_real_estate_df.info()"
   ]
  },
  {
   "cell_type": "code",
   "execution_count": 17,
   "metadata": {},
   "outputs": [],
   "source": [
    "ca_real_estate_sorted_df = ca_real_estate_df.sort_values(by='Date')"
   ]
  },
  {
   "cell_type": "code",
   "execution_count": 27,
   "metadata": {
    "scrolled": false
   },
   "outputs": [
    {
     "data": {
      "text/plain": [
       "16794   2018-08-15\n",
       "15277   2018-09-10\n",
       "4071    2018-11-29\n",
       "13829   2019-01-07\n",
       "20633   2019-01-08\n",
       "20631   2019-01-08\n",
       "20289   2019-01-24\n",
       "22009   2019-01-30\n",
       "3217    2019-02-11\n",
       "13643   2019-02-15\n",
       "20448   2019-02-28\n",
       "4195    2019-03-08\n",
       "9632    2019-03-14\n",
       "19740   2019-03-15\n",
       "20462   2019-03-15\n",
       "18700   2019-03-27\n",
       "20223   2019-04-01\n",
       "20340   2019-04-02\n",
       "21773   2019-04-11\n",
       "11678   2019-04-12\n",
       "12216   2019-04-15\n",
       "20268   2019-04-18\n",
       "15027   2019-04-24\n",
       "19714   2019-04-26\n",
       "22037   2019-04-28\n",
       "20623   2019-04-29\n",
       "59      2019-05-02\n",
       "9039    2019-05-03\n",
       "9415    2019-05-03\n",
       "20675   2019-05-04\n",
       "           ...    \n",
       "11601   2019-10-01\n",
       "13082   2019-10-01\n",
       "17744   2019-10-01\n",
       "9708    2019-10-01\n",
       "19774   2019-10-01\n",
       "9695    2019-10-01\n",
       "10527   2019-10-01\n",
       "21775   2019-10-01\n",
       "10534   2019-10-01\n",
       "13145   2019-10-01\n",
       "11596   2019-10-01\n",
       "11595   2019-10-01\n",
       "11493   2019-10-01\n",
       "9666    2019-10-01\n",
       "18573   2019-10-01\n",
       "11586   2019-10-01\n",
       "11583   2019-10-01\n",
       "13211   2019-10-01\n",
       "10546   2019-10-01\n",
       "9597    2019-10-01\n",
       "19451   2019-10-01\n",
       "13286   2019-10-01\n",
       "11570   2019-10-01\n",
       "13299   2019-10-01\n",
       "10588   2019-10-01\n",
       "10617   2019-10-01\n",
       "20282   2019-10-01\n",
       "11587   2019-10-01\n",
       "11068   2019-10-01\n",
       "9244           NaT\n",
       "Name: Date, Length: 22109, dtype: datetime64[ns]"
      ]
     },
     "execution_count": 27,
     "metadata": {},
     "output_type": "execute_result"
    }
   ],
   "source": [
    "ca_real_estate_sorted_df.Date"
   ]
  },
  {
   "cell_type": "code",
   "execution_count": 24,
   "metadata": {},
   "outputs": [
    {
     "name": "stdout",
     "output_type": "stream",
     "text": [
      "<class 'pandas.core.frame.DataFrame'>\n",
      "Int64Index: 22109 entries, 16794 to 9244\n",
      "Data columns (total 30 columns):\n",
      "Unnamed: 0               22109 non-null int64\n",
      "Listing ID               22109 non-null object\n",
      "S                        22109 non-null object\n",
      "Sub Type                 22109 non-null object\n",
      "St#                      22109 non-null object\n",
      "St Name                  22109 non-null object\n",
      "City                     22109 non-null object\n",
      "MLS Area                 20771 non-null object\n",
      "SLC                      22108 non-null object\n",
      "L/C Price                22109 non-null float64\n",
      "Price Per Square Foot    22108 non-null float64\n",
      "Br/Ba                    22109 non-null object\n",
      "Sqft/A                   22109 non-null object\n",
      "YrBuilt                  22109 non-null object\n",
      "LSqft/Ac                 22108 non-null object\n",
      "DOM/CDOM                 22109 non-null object\n",
      "View YN                  22054 non-null object\n",
      "Pool Private YN          22102 non-null object\n",
      "BAC                      22109 non-null object\n",
      "Date                     22108 non-null datetime64[ns]\n",
      "MLS                      22109 non-null object\n",
      "County                   22109 non-null object\n",
      "month                    22108 non-null float64\n",
      "A                        22109 non-null object\n",
      "B                        22109 non-null object\n",
      "C                        22109 non-null object\n",
      "Bed                      22109 non-null object\n",
      "Bath                     22109 non-null object\n",
      "LSqft                    22108 non-null float64\n",
      "Ac                       22108 non-null float64\n",
      "dtypes: datetime64[ns](1), float64(5), int64(1), object(23)\n",
      "memory usage: 5.2+ MB\n"
     ]
    }
   ],
   "source": [
    "ca_real_estate_sorted_df.info()"
   ]
  },
  {
   "cell_type": "code",
   "execution_count": 32,
   "metadata": {},
   "outputs": [],
   "source": [
    "ca_real_estate_sorted_df_JM = ca_real_estate_sorted_df[(ca_real_estate_sorted_df.Date >= \"2018-08-15\") & (ca_real_estate_sorted_df.Date <= \"2019-05-31\")]"
   ]
  },
  {
   "cell_type": "code",
   "execution_count": 50,
   "metadata": {},
   "outputs": [
    {
     "data": {
      "text/plain": [
       "10369"
      ]
     },
     "execution_count": 50,
     "metadata": {},
     "output_type": "execute_result"
    }
   ],
   "source": [
    "import datetime as dt\n",
    "ca_real_estate_sorted_df.Date[(ca_real_estate_sorted_df.Date.dt.month == 9) & (ca_real_estate_sorted_df.Date.dt.year == 2019)].value_counts().sum()"
   ]
  },
  {
   "cell_type": "code",
   "execution_count": 61,
   "metadata": {},
   "outputs": [
    {
     "data": {
      "text/plain": [
       "<matplotlib.axes._subplots.AxesSubplot at 0x1297e7dd8>"
      ]
     },
     "execution_count": 61,
     "metadata": {},
     "output_type": "execute_result"
    },
    {
     "data": {
      "image/png": "[encoded data removed]",
      "text/plain": [
       "<Figure size 432x288 with 1 Axes>"
      ]
     },
     "metadata": {
      "needs_background": "light"
     },
     "output_type": "display_data"
    }
   ],
   "source": [
    "ca_real_estate_sorted_df['Date'].value_counts().hist()"
   ]
  },
  {
   "cell_type": "code",
   "execution_count": 64,
   "metadata": {},
   "outputs": [
    {
     "data": {
      "text/plain": [
       "<matplotlib.axes._subplots.AxesSubplot at 0x12b4e2860>"
      ]
     },
     "execution_count": 64,
     "metadata": {},
     "output_type": "execute_result"
    },
    {
     "data": {
      "image/png": "[encoded data removed]",
      "text/plain": [
       "<Figure size 432x288 with 1 Axes>"
      ]
     },
     "metadata": {
      "needs_background": "light"
     },
     "output_type": "display_data"
    }
   ],
   "source": [
    "ca_real_estate_sorted_df['Date'].groupby([ca_real_estate_sorted_df[\"Date\"].dt.year,ca_real_estate_sorted_df[\"Date\"].dt.month]).count().plot(kind=\"bar\")"
   ]
  },
  {
   "cell_type": "code",
   "execution_count": null,
   "metadata": {},
   "outputs": [],
   "source": []
  },
  {
   "cell_type": "code",
   "execution_count": null,
   "metadata": {},
   "outputs": [],
   "source": []
  },
  {
   "cell_type": "code",
   "execution_count": null,
   "metadata": {},
   "outputs": [],
   "source": []
  }
 ],
 "metadata": {
  "kernelspec": {
   "display_name": "Python 3",
   "language": "python",
   "name": "python3"
  },
  "language_info": {
   "codemirror_mode": {
    "name": "ipython",
    "version": 3
   },
   "file_extension": ".py",
   "mimetype": "text/x-python",
   "name": "python",
   "nbconvert_exporter": "python",
   "pygments_lexer": "ipython3",
   "version": "3.7.3"
  }
 },
 "nbformat": 4,
 "nbformat_minor": 2
}
